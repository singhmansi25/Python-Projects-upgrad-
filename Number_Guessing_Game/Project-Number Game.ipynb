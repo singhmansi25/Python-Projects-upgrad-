{
 "cells": [
  {
   "cell_type": "markdown",
   "id": "2095997c",
   "metadata": {},
   "source": [
    "# <font color='turquoise'><center>NUMBER GUESSING GAME</center></font>"
   ]
  },
  {
   "cell_type": "markdown",
   "id": "7eeaf887",
   "metadata": {},
   "source": [
    "# Problem Statement"
   ]
  },
  {
   "cell_type": "markdown",
   "id": "44eceb35",
   "metadata": {},
   "source": [
    "- Make a program in which the computer randomly chooses a number between 1 to 10, 1 to 100, or any range. \n",
    "- Then give users a hint to guess the number. Every time the user guesses wrong, he gets another clue, and his score gets reduced. \n",
    "- The clue can be multiples, divisible, greater or smaller, or a combination of all.\n",
    "- You will also need functions to compare the inputted number with the guessed number, to compute the difference between the two, and to check whether an actual number was inputted or not in this python project."
   ]
  },
  {
   "cell_type": "markdown",
   "id": "2bbc3ebc",
   "metadata": {},
   "source": [
    "## Tasks:\n",
    "- User inputs the lower bound and upper bound of the range.\n",
    "- The compiler generates a random integer between the range and store it in a variable for future references.\n",
    "- For repetitive guessing, a while loop will be initialized.\n",
    "- If the user guessed a number which is greater than a randomly selected number, the user gets an output “Try Again! You guessed too high“\n",
    "- Else If the user guessed a number which is smaller than a randomly selected number, the user gets an output “Try Again! You guessed too small”\n",
    "- And if the user guessed in a minimum number of guesses, the user gets a “Congratulations! ” Output.\n",
    "- Else if the user didn’t guess the integer in the minimum number of guesses, he/she will get “Better Luck Next Time!” output.\n",
    "- For every wrong guess, You can also give some hints to the user that the number is a divisible, multiple of x, etc.\n"
   ]
  },
  {
   "cell_type": "markdown",
   "id": "ab168213",
   "metadata": {},
   "source": [
    "### Importing Library"
   ]
  },
  {
   "cell_type": "code",
   "execution_count": 3,
   "id": "5a4e2660",
   "metadata": {},
   "outputs": [],
   "source": [
    "import random             # random library is required to generate random number.\n",
    "\n",
    "import math               # math library is used in giving hints\n",
    "\n",
    "class color:              # class for styling text \n",
    "    PURPLE = '\\033[95m'      # for Purple color text\n",
    "    CYAN = '\\033[96m'        # for Cyan color text\n",
    "    DARKCYAN = '\\033[36m'    # for DarkCyan color text\n",
    "    BLUE = '\\033[94m'        # for BLue color text\n",
    "    GREEN = '\\033[92m'       # for Green color text\n",
    "    YELLOW = '\\033[93m'      # for Yellow color text\n",
    "    RED = '\\033[91m'         # for Red color text\n",
    "    BOLD = '\\033[1m'         # for Bold styled text\n",
    "    UNDERLINE = '\\033[4m'    # for Underline styled text\n",
    "    END = '\\033[0m'          # for End of text styling"
   ]
  },
  {
   "cell_type": "markdown",
   "id": "4316580f",
   "metadata": {},
   "source": [
    "### Functions for hints"
   ]
  },
  {
   "cell_type": "code",
   "execution_count": 10,
   "id": "d6c2696b",
   "metadata": {},
   "outputs": [],
   "source": [
    "# Function to compare guessed number and random number for giving hint to player. \n",
    "# It takes guessed number as input and returns hint as string.\n",
    "\n",
    "def compare(n):\n",
    "    if random_num<=n: \n",
    "        return 'You guessed too high !!'\n",
    "    else:\n",
    "        return 'You guessed too small !!'"
   ]
  },
  {
   "cell_type": "code",
   "execution_count": 11,
   "id": "3c90a188",
   "metadata": {},
   "outputs": [],
   "source": [
    "# Function to check if guessed number and random number are multiple of eachother or not for giving hint to player. \n",
    "# It takes guessed number as input and returns hint as string.\n",
    "\n",
    "def multiple(n):\n",
    "    if n%random_num==0 or random_num%n==0:\n",
    "        return 'You guessed a multiple of actual number !!'\n",
    "    else:\n",
    "        return 'Your guessed number is not a multiple of actual number !!'"
   ]
  },
  {
   "cell_type": "code",
   "execution_count": 12,
   "id": "2fabbd64",
   "metadata": {},
   "outputs": [],
   "source": [
    "# Function to check if random number is a element of Fibonacci series for giving hint to player. \n",
    "# It takes guessed number as input and returns hint as string.\n",
    "\n",
    "def isin_fibonacci(n):\n",
    "    # if the number follows the given criteria then its a fibonacci series element.\n",
    "    def isPerfectSquare(x):\n",
    "        s = int(math.sqrt(x))\n",
    "        return s*s == x\n",
    "    \n",
    "    if isPerfectSquare(5*random_num*random_num + 4) or isPerfectSquare(5*random_num*random_num - 4):\n",
    "        return 'The actual number is a element of fibonacci series !!'\n",
    "    else:\n",
    "        return 'The actual number is not a element of fibonacci series !!'"
   ]
  },
  {
   "cell_type": "code",
   "execution_count": 36,
   "id": "5476e6c9",
   "metadata": {},
   "outputs": [],
   "source": [
    "# Function to check if random number is a perfect square or not for giving hint to player. \n",
    "# It takes guessed number as input and returns hint as string.\n",
    "\n",
    "def isPerfect(n):\n",
    "    # if random number is perfect square, then returning hint accordingly. \n",
    "    s = int(math.sqrt(random_num))\n",
    "    if s*s == random_num:\n",
    "        return 'The actual number is a Perfect Square !!'\n",
    "    else:\n",
    "        return 'The actual number is not a Perfect Square !!'"
   ]
  },
  {
   "cell_type": "markdown",
   "id": "ddc65efd",
   "metadata": {},
   "source": [
    "### Main Program"
   ]
  },
  {
   "cell_type": "code",
   "execution_count": 38,
   "id": "56f03656",
   "metadata": {},
   "outputs": [
    {
     "name": "stdout",
     "output_type": "stream",
     "text": [
      "\u001b[95m\u001b[1mWelcome to Number Game\u001b[0m\n",
      "\n",
      "\u001b[91m\u001b[1mRules: \u001b[0m\n",
      "\u001b[94m      1. You will get total 7 chances to guess the right number in the given range.\n",
      "      2. On wrong guess, your total points will reduce.\n",
      "      3. For every wrong guess, you will get a hint to guess again.\n",
      "\n",
      "\u001b[92m\u001b[1mAll the Best !!!\u001b[0m\n",
      "\n",
      "\u001b[94mYou need to provide lower and upper bounds for guessing number in that range.\u001b[0m\n",
      "\n",
      "Enter lower bound:    4\n",
      "Enter upper bound:    12\n",
      "\n",
      "\n",
      "Guess the number?   4\n",
      "\n",
      "\u001b[91m\u001b[1m\u001b[4mHint:\u001b[0m Your guessed number is not a multiple of actual number !!\n",
      "You have 6 chances left.\n",
      "\n",
      "Guess the number?   7\n",
      "\n",
      "\u001b[91m\u001b[1m\u001b[4mHint:\u001b[0m Your guessed number is not a multiple of actual number !!\n",
      "You have 5 chances left.\n",
      "\n",
      "Guess the number?   9\n",
      "\n",
      "\u001b[91m\u001b[1m\u001b[4mHint:\u001b[0m You guessed too high !!\n",
      "You have 4 chances left.\n",
      "\n",
      "Guess the number?   6\n",
      "\n",
      "\u001b[36m\u001b[1mCongratulations. You Guessed it right. !!!!\u001b[0m\n",
      "\u001b[95m\u001b[1mYou scored 400 points.\n"
     ]
    }
   ],
   "source": [
    "# Heart of the program\n",
    "# Print statement to show welcome message, rules to player\n",
    "# color class variables are used to display colorful messages.\n",
    "print(color.PURPLE+ color.BOLD + 'Welcome to Number Game' + color.END, end='\\n\\n')\n",
    "print(color.RED+color.BOLD+'Rules: '+ color.END)\n",
    "print(color.BLUE+'      1. You will get total 7 chances to guess the right number in the given range.','      2. On wrong guess, your total points will reduce.','      3. For every wrong guess, you will get a hint to guess again.',sep='\\n',end='\\n\\n')\n",
    "print(color.GREEN+ color.BOLD + 'All the Best !!!' + color.END, end='\\n\\n')\n",
    "\n",
    "# User is asked to enter lower and upper bounds of the range of numbers to guess from.\n",
    "print(color.BLUE+'You need to provide lower and upper bounds for guessing number in that range.'+ color.END,end='\\n\\n')\n",
    "\n",
    "# to input lower bound\n",
    "lower_bound = int(input(color.BOLD+'Enter lower bound:    '+color.END))\n",
    "\n",
    "# to input upper bound\n",
    "upper_bound = int(input(color.BOLD+'Enter upper bound:    '+color.END))\n",
    "print(end='\\n\\n')\n",
    "# A random number is generated using random library function randint with start and end values provided.\n",
    "random_num = random.randint(lower_bound,upper_bound)\n",
    "\n",
    "# total chances given to the user are 7\n",
    "total_chance = 7\n",
    "\n",
    "# total score is 700 and initially the score is 0.\n",
    "score = 0\n",
    "\n",
    "# A dictionary of question functions to provide hints to the user.\n",
    "# The dictionary contains keys as numbers and values as function name.\n",
    "# The questions for hints are selected on a random basis using randint function on keys of question set dictionary.\n",
    "question_dict = {1:compare, 2:multiple, 3:isin_fibonacci, 4:isPerfect}\n",
    "\n",
    "# while loop runs till total chances becomes 0.\n",
    "while (total_chance>0):\n",
    "    # Taking input from user to guess a number in the given range.\n",
    "    n = int(input(color.BOLD+'Guess the number?   '+color.END))\n",
    "    print(end='\\n')\n",
    "    \n",
    "    # If guessed number is same as random number generated using randint\n",
    "    # then display scores based on total chances left and a Congratulatory message.\n",
    "    # Else, if guessed number and generated random number are not same, then decrease total number of chances\n",
    "    # and provide a random hint to the player to guess the number again, untill total chances left are 0.\n",
    "    if n==random_num:\n",
    "        score = total_chance*100\n",
    "        print(color.DARKCYAN+color.BOLD+'Congratulations. You Guessed it right. !!!!'+color.END)\n",
    "        print(color.PURPLE+color.BOLD+f'You scored {score} points.')\n",
    "        break\n",
    "    else:\n",
    "        total_chance -= 1\n",
    "        ques = random.randint(1,4)           # to randomly select a question from dictionary of questions.\n",
    "        print(color.RED+color.BOLD+color.UNDERLINE+'Hint:'+color.END,question_dict[ques](n))\n",
    "        print(f'You have {total_chance} chances left.',end='\\n\\n')\n",
    "        \n",
    "    ## end of while\n",
    "\n",
    "# If player is not able to guess the random number.\n",
    "# Then display the random number with a message.\n",
    "if total_chance==0:\n",
    "    print(color.CYAN+color.BOLD+f'Opps!! You were not able to guess the secret number:  {random_num}'+color.END)\n",
    "    print(color.GREEN+color.BOLD+'Better Luck Next Time :('+color.END)"
   ]
  },
  {
   "cell_type": "code",
   "execution_count": null,
   "id": "2d15d7a3",
   "metadata": {},
   "outputs": [],
   "source": []
  }
 ],
 "metadata": {
  "kernelspec": {
   "display_name": "Python 3 (ipykernel)",
   "language": "python",
   "name": "python3"
  },
  "language_info": {
   "codemirror_mode": {
    "name": "ipython",
    "version": 3
   },
   "file_extension": ".py",
   "mimetype": "text/x-python",
   "name": "python",
   "nbconvert_exporter": "python",
   "pygments_lexer": "ipython3",
   "version": "3.8.8"
  }
 },
 "nbformat": 4,
 "nbformat_minor": 5
}
