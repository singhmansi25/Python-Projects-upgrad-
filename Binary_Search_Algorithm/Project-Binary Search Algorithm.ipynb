{
 "cells": [
  {
   "cell_type": "markdown",
   "id": "8620397f",
   "metadata": {},
   "source": [
    "# <font color='violet'><center>Binary Search Algorithm</center></font>"
   ]
  },
  {
   "cell_type": "markdown",
   "id": "851fc5a5",
   "metadata": {},
   "source": [
    "## Problem Statement-"
   ]
  },
  {
   "cell_type": "markdown",
   "id": "76a4ae5e",
   "metadata": {},
   "source": [
    "You need to find a random number input by user in a random list of sorted numbers with every succeeding number having a difference of 2 between them. \n",
    "\n",
    "Use Binary search algorithm to implement the same.(Remember numbers are in range 0-100)"
   ]
  },
  {
   "cell_type": "code",
   "execution_count": 1,
   "id": "913faa13",
   "metadata": {},
   "outputs": [],
   "source": [
    "# Importing library random\n",
    "\n",
    "import random as rnd"
   ]
  },
  {
   "cell_type": "markdown",
   "id": "86463809",
   "metadata": {},
   "source": [
    "## Random list"
   ]
  },
  {
   "cell_type": "code",
   "execution_count": 2,
   "id": "c604cafc",
   "metadata": {},
   "outputs": [],
   "source": [
    "# Function to generate random number list\n",
    "# generateList is a function that returns a random list upon calling.\n",
    "\n",
    "def generateList():\n",
    "    start = rnd.randint(0,20)                       # start point of random list is a random number in between 0 to 20\n",
    "    end = rnd.randint(80,100)                       # end point of random list is a random number in between 80 to 100\n",
    "    random_list = [x for x in range(start,end,2)]   # creating random list using list comprehension\n",
    "    return random_list"
   ]
  },
  {
   "cell_type": "markdown",
   "id": "cb7cd643",
   "metadata": {},
   "source": [
    "## Binary Search Algorithm"
   ]
  },
  {
   "cell_type": "code",
   "execution_count": 3,
   "id": "6d164813",
   "metadata": {},
   "outputs": [],
   "source": [
    "# Function for Binary Search Algorithm\n",
    "# binary_search is a recursive function which takes the random list, start index, end index and key as the parameter\n",
    "# and returns index of the key element if found, else it returns -1.\n",
    "\n",
    "def binary_search(list1, low, high, key):\n",
    "    if low>high:                                      # if low index is greater than high index, it means element not found\n",
    "        return -1\n",
    "    \n",
    "    mid = (low+high)//2                               # else, calculate mid index of list elements \n",
    "    \n",
    "    if(list1[mid]==key):                              # if key element is same as mid element return mid index\n",
    "        return mid\n",
    "    \n",
    "    elif(list1[mid]<key):                             # if key element is on the right side of mid element, search in right side\n",
    "        return binary_search(list1, mid+1, high, key)\n",
    "    \n",
    "    else:                                             # else, search on left side for key element\n",
    "        return binary_search(list1,low,mid-1,key)\n",
    "    "
   ]
  },
  {
   "cell_type": "markdown",
   "id": "c313a57d",
   "metadata": {},
   "source": [
    "### Input - Output:"
   ]
  },
  {
   "cell_type": "code",
   "execution_count": 4,
   "id": "cf722899",
   "metadata": {},
   "outputs": [
    {
     "name": "stdout",
     "output_type": "stream",
     "text": [
      "Hello Welcome to mystery game\n",
      "Enter any random number between 0 and 100:  23\n",
      "You have entered- 23\n",
      "Lets check if it exist in the list or not \n",
      "\n",
      "23 not found in the random list\n",
      "Do you want to continue? Press Y for Yes and N for No:    Y\n",
      "You pressed  Y \n",
      "\n",
      "Enter any random number between 0 and 100:  45\n",
      "You have entered- 45\n",
      "Lets check if it exist in the list or not \n",
      "\n",
      "45 not found in the random list\n",
      "Do you want to continue? Press Y for Yes and N for No:    Y\n",
      "You pressed  Y \n",
      "\n",
      "Enter any random number between 0 and 100:  46\n",
      "You have entered- 46\n",
      "Lets check if it exist in the list or not \n",
      "\n",
      "46 not found in the random list\n",
      "Do you want to continue? Press Y for Yes and N for No:    Y\n",
      "You pressed  Y \n",
      "\n",
      "Enter any random number between 0 and 100:  54\n",
      "You have entered- 54\n",
      "Lets check if it exist in the list or not \n",
      "\n",
      "54 found at index 25\n",
      "Do you want to continue? Press Y for Yes and N for No:    N\n",
      "You pressed  N \n",
      "\n",
      "FINISHED\n",
      "THANK YOU\n"
     ]
    }
   ],
   "source": [
    "# The program asks user to enter any random number and search that number in the random list\n",
    "ch = 'Y'              # ch is choice of user\n",
    "\n",
    "print(\"Hello Welcome to mystery game\")\n",
    "\n",
    "while ch!='N':       # loop till user enters 'N' for No\n",
    "    # User input:\n",
    "    random_number = int(input(\"Enter any random number between 0 and 100:  \"))\n",
    "    \n",
    "    if random_number in range(0,101):                           # check if the number entered is in given range\n",
    "        print(\"You have entered-\",random_number)\n",
    "        print(\"Lets check if it exist in the list or not \\n\")\n",
    "    else:                                                       # else, ask user again to enter the number in the range\n",
    "        print(\"Please enter number in the given range \\n\")\n",
    "        continue\n",
    "        \n",
    "    random_list = generateList()                                # call function generatelist()\n",
    "    \n",
    "    index = binary_search(random_list,0,len(random_list),random_number)       # find index of random number using binary search\n",
    "    \n",
    "    if index!= -1:                                              # if random number exists in list, then print its index\n",
    "        print(random_number,\"found at index\",index)\n",
    "    else:                                                       # else, not found\n",
    "        print(random_number,\"not found in the random list\")\n",
    "    \n",
    "    ch = input(\"Do you want to continue? Press Y for Yes and N for No:    \")      # Ask user Yes/ No to continue or not.\n",
    "    print(\"You pressed \",ch,\"\\n\")\n",
    "\n",
    "\n",
    "print(\"FINISHED\")\n",
    "print(\"THANK YOU\")               # Game Ends"
   ]
  },
  {
   "cell_type": "code",
   "execution_count": null,
   "id": "0501fbc9",
   "metadata": {},
   "outputs": [],
   "source": []
  }
 ],
 "metadata": {
  "kernelspec": {
   "display_name": "Python 3",
   "language": "python",
   "name": "python3"
  },
  "language_info": {
   "codemirror_mode": {
    "name": "ipython",
    "version": 3
   },
   "file_extension": ".py",
   "mimetype": "text/x-python",
   "name": "python",
   "nbconvert_exporter": "python",
   "pygments_lexer": "ipython3",
   "version": "3.8.8"
  }
 },
 "nbformat": 4,
 "nbformat_minor": 5
}
