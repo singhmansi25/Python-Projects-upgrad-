{
 "cells": [
  {
   "attachments": {},
   "cell_type": "markdown",
   "id": "1c2d1c8b",
   "metadata": {},
   "source": [
    "# <font color='green'><center>Child Nutrition Calculator</center></font>"
   ]
  },
  {
   "cell_type": "markdown",
   "id": "c80dc0d9",
   "metadata": {},
   "source": [
    "### Child's Details:\n",
    "- Name\n",
    "- Age\n",
    "- Gender\n",
    "- Weight\n",
    "- Height"
   ]
  },
  {
   "cell_type": "markdown",
   "id": "2dc8918a",
   "metadata": {},
   "source": [
    "#### Enter Details of child:"
   ]
  },
  {
   "cell_type": "code",
   "execution_count": 25,
   "id": "109cea40",
   "metadata": {},
   "outputs": [
    {
     "name": "stdout",
     "output_type": "stream",
     "text": [
      "Enter name: Peter Parker\n",
      "Enter age: 5\n",
      "Enter gender- M/F: M\n",
      "Enter weight in Kgs: 23\n",
      "Enter height in meters: 1.3\n"
     ]
    }
   ],
   "source": [
    "# Enter Name\n",
    "name = input(\"Enter name: \")\n",
    "# Enter Age\n",
    "age = int(input(\"Enter age: \"))\n",
    "# Enter Gender\n",
    "gender = input(\"Enter gender- M/F: \")\n",
    "# Enter Weight\n",
    "weight = float(input(\"Enter weight in Kgs: \"))\n",
    "# Enter Height\n",
    "height = float(input(\"Enter height in meters: \"))"
   ]
  },
  {
   "cell_type": "markdown",
   "id": "095024e0",
   "metadata": {},
   "source": [
    "#### Enter daily food intake by child:"
   ]
  },
  {
   "cell_type": "code",
   "execution_count": 26,
   "id": "ed90484f",
   "metadata": {},
   "outputs": [
    {
     "name": "stdout",
     "output_type": "stream",
     "text": [
      "Enter milk intake of child in a day in grams: 200\n",
      "Enter egg intake of child in a day in grams: 300\n",
      "Enter rice intake of child in a day in grams: 200\n",
      "Enter lentils/pulses intake of child in a day in grams: 400\n",
      "Enter vegetables/fruits intake of child in a day in grams: 500\n",
      "Enter meat intake of child in a day in grams: 300\n"
     ]
    }
   ],
   "source": [
    "milk = int(input(\"Enter milk intake of child in a day in grams: \"))\n",
    "egg = int(input(\"Enter egg intake of child in a day in grams: \"))\n",
    "rice = int(input(\"Enter rice intake of child in a day in grams: \"))\n",
    "lentils = int(input(\"Enter lentils/pulses intake of child in a day in grams: \"))\n",
    "veggies = int(input(\"Enter vegetables/fruits intake of child in a day in grams: \"))\n",
    "meat = int(input(\"Enter meat intake of child in a day in grams: \"))"
   ]
  },
  {
   "cell_type": "markdown",
   "id": "26de2914",
   "metadata": {},
   "source": [
    "### Calories/Gram for different food:\n",
    "- Milk: 100 cal/ 100g \n",
    "- Egg: 155 cal/ 100g \n",
    "- Rice: 130 cal/ 100g \n",
    "- Lentils: 113 cal/ 100g \n",
    "- Vegetable: 85 cal/100g \n",
    "- Meat: 143 cal/ 100g"
   ]
  },
  {
   "cell_type": "markdown",
   "id": "bbf5a988",
   "metadata": {},
   "source": [
    "### Daily Calorie Intake based on Age-group:\n",
    "- Age b/w 0-2 years: 800 calories\n",
    "- Age b/w 2-4 years: 1400 calories\n",
    "- Age b/w 4-8 years: 1800 calories"
   ]
  },
  {
   "cell_type": "code",
   "execution_count": 27,
   "id": "2f5ab1a2",
   "metadata": {},
   "outputs": [],
   "source": [
    "# Calulating Calories consumed by child in a day:\n",
    "calorie = (milk/100)*100 + (egg/100)*155 + (rice/100)*130 + (lentils/100)*113 + (veggies/100)*85 + (meat/100)*143\n",
    "if age in range(0,3):\n",
    "    if calorie in range(800,1400):\n",
    "        nourishment = \"nourished\"\n",
    "    else:\n",
    "        nourishment = \"under-nourished\"\n",
    "if age in range(2,5):\n",
    "    if calorie in range(1400,1800):\n",
    "        nourishment = \"nourished\"\n",
    "    else:\n",
    "        nourishment = \"under-nourished\"\n",
    "if age in range(4,9):\n",
    "    if calorie >= 1800:\n",
    "        nourishment = \"nourished\"\n",
    "    else:\n",
    "        nourishment = \"under-nourished\""
   ]
  },
  {
   "cell_type": "code",
   "execution_count": 28,
   "id": "1eaf2ebc",
   "metadata": {},
   "outputs": [],
   "source": [
    "# Calulating BMI of child:\n",
    "bmi = (weight)/(height**2)\n",
    "if bmi<16:\n",
    "    category = \"Severely Underweight\"\n",
    "elif bmi>=16 and bmi<18:\n",
    "    category = \"Underweight\"\n",
    "elif bmi>=18 and bmi<25:\n",
    "    category = \"Healthy\"\n",
    "elif bmi>=25 and bmi<30:\n",
    "    category = \"Overweight\"\n",
    "else:\n",
    "    category = \"Obese\""
   ]
  },
  {
   "cell_type": "markdown",
   "id": "4ef76c1d",
   "metadata": {},
   "source": [
    "## <font color='red'><center>BMI Categories </center></font>\n",
    "<style>\n",
    "table {\n",
    "  font-family: arial, sans-serif;\n",
    "  border-collapse: collapse;\n",
    "  width: 200%;\n",
    "}\n",
    "\n",
    "td, th {\n",
    "  border: 1px solid #dddddd;\n",
    "  text-align: left;\n",
    "  padding: 10px;\n",
    "}\n",
    "\n",
    "tr:nth-child(even) {\n",
    "  background-color: #D6EEEE;\n",
    "}\n",
    "</style>\n",
    "<table>\n",
    "  <tr>\n",
    "    <th>BMI</th>\n",
    "    <th>BMI Categories</th>\n",
    "  </tr>\n",
    "  <tr>\n",
    "    <td>&#60; 16</td>\n",
    "    <td>Severely Underweight</td>\n",
    "  </tr>\n",
    "  <tr>\n",
    "    <td>&ge; 16 and &#60; 18</td>\n",
    "    <td>Underweight</td>\n",
    "  </tr>\n",
    "  <tr>\n",
    "    <td>&ge; 18 and &#60; 25</td>\n",
    "    <td>Healthy</td>\n",
    "  </tr>\n",
    "  <tr>\n",
    "    <td>&ge; 25 and &#60; 30</td>\n",
    "    <td>Overweight</td>\n",
    "  </tr>\n",
    "  <tr>\n",
    "    <td>&ge; 30</td>\n",
    "    <td>Obese</td>\n",
    "  </tr>\n",
    "</table>"
   ]
  },
  {
   "cell_type": "markdown",
   "id": "cdb0591b",
   "metadata": {},
   "source": [
    "## <font color='blue'> Results:</font>"
   ]
  },
  {
   "cell_type": "code",
   "execution_count": 29,
   "id": "023cc0a0",
   "metadata": {},
   "outputs": [
    {
     "name": "stdout",
     "output_type": "stream",
     "text": [
      "BMI of  Peter Parker  is  13.609467455621301  and he is  Severely Underweight\n",
      "The daily calorie consumption of  Peter Parker  is  2231.0  and he is nourished\n"
     ]
    }
   ],
   "source": [
    "if(gender=='M'):\n",
    "    print(\"BMI of \",name,\" is \",bmi,\" and he is \",category)\n",
    "    print(\"The daily calorie consumption of \",name,\" is \",calorie,\" and he is\",nourishment)\n",
    "else:\n",
    "    print(\"BMI of \",name,\" is \",bmi,\" and she is \",category)\n",
    "    print(\"The daily calorie consumption of \",name,\" is \",calorie,\" and she is\",nourishment)"
   ]
  }
 ],
 "metadata": {
  "kernelspec": {
   "display_name": "Python 3",
   "language": "python",
   "name": "python3"
  },
  "language_info": {
   "codemirror_mode": {
    "name": "ipython",
    "version": 3
   },
   "file_extension": ".py",
   "mimetype": "text/x-python",
   "name": "python",
   "nbconvert_exporter": "python",
   "pygments_lexer": "ipython3",
   "version": "3.8.8"
  }
 },
 "nbformat": 4,
 "nbformat_minor": 5
}
