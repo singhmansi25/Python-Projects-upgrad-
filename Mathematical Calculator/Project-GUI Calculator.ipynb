{
 "cells": [
  {
   "cell_type": "markdown",
   "id": "9b2cbc2b",
   "metadata": {},
   "source": [
    "# <font color='tomato'><center>Scientific & Mathematical Calculator</center></font>"
   ]
  },
  {
   "cell_type": "markdown",
   "id": "728fbf2f",
   "metadata": {},
   "source": [
    "## Problem Statement"
   ]
  },
  {
   "cell_type": "markdown",
   "id": "0aff4f73",
   "metadata": {},
   "source": [
    "### Create a GUI based Calculator using Tkinter module of Python"
   ]
  },
  {
   "cell_type": "markdown",
   "id": "151dbfd8",
   "metadata": {},
   "source": [
    "The calcultor shows the user options for various mathematical operations. The user has to enter values for choice of operation, 2 operands. The answer is shown on the GUI screen."
   ]
  },
  {
   "cell_type": "markdown",
   "id": "53989d57",
   "metadata": {},
   "source": [
    "## Importing modules"
   ]
  },
  {
   "cell_type": "code",
   "execution_count": 1,
   "id": "6ece3802",
   "metadata": {},
   "outputs": [],
   "source": [
    "# Importing Tkinter module\n",
    "\n",
    "from tkinter import *\n",
    "import tkinter as tk"
   ]
  },
  {
   "cell_type": "code",
   "execution_count": 2,
   "id": "0867c022",
   "metadata": {},
   "outputs": [],
   "source": [
    "# Importing partial from functool module\n",
    "\n",
    "from functools import partial"
   ]
  },
  {
   "cell_type": "code",
   "execution_count": 3,
   "id": "e972796d",
   "metadata": {},
   "outputs": [],
   "source": [
    "# Importing maths module\n",
    "\n",
    "import math"
   ]
  },
  {
   "cell_type": "markdown",
   "id": "10255e70",
   "metadata": {},
   "source": [
    "## Various mathematical function present in Calculator\n",
    "\n",
    "- ADDITION\n",
    "- SUBTRACTION\n",
    "- MULTIPLICATION\n",
    "- DIVISION\n",
    "- POWER\n",
    "- LOGARITHM\n",
    "- HIGHEST COMMON FACTOR (HCF)\n",
    "- LOWEST COMMON MULTIPLE (LCM)"
   ]
  },
  {
   "cell_type": "markdown",
   "id": "7672d2f4",
   "metadata": {},
   "source": [
    "## Functions for calculation"
   ]
  },
  {
   "cell_type": "code",
   "execution_count": 4,
   "id": "9118ce64",
   "metadata": {},
   "outputs": [],
   "source": [
    "# Addition function\n",
    "\n",
    "def add(a,b):\n",
    "    return a+b"
   ]
  },
  {
   "cell_type": "code",
   "execution_count": 5,
   "id": "92f408ec",
   "metadata": {},
   "outputs": [],
   "source": [
    "# Subtraction function\n",
    "\n",
    "def subtract(a,b):\n",
    "    return a-b"
   ]
  },
  {
   "cell_type": "code",
   "execution_count": 6,
   "id": "dbbaf2bd",
   "metadata": {},
   "outputs": [],
   "source": [
    "# Multiplication function\n",
    "\n",
    "def multiply(a,b):\n",
    "    return a*b"
   ]
  },
  {
   "cell_type": "code",
   "execution_count": 7,
   "id": "08a4899a",
   "metadata": {},
   "outputs": [],
   "source": [
    "# Division Function\n",
    "\n",
    "def divide(a,b):\n",
    "    if b==0:\n",
    "        return 'division by zero'\n",
    "    else:\n",
    "        return a/b"
   ]
  },
  {
   "cell_type": "code",
   "execution_count": 8,
   "id": "a2ce5f6a",
   "metadata": {},
   "outputs": [],
   "source": [
    "# Power function\n",
    "\n",
    "def power(a,b):\n",
    "    return a**b"
   ]
  },
  {
   "cell_type": "code",
   "execution_count": 9,
   "id": "1dba0c87",
   "metadata": {},
   "outputs": [],
   "source": [
    "# Logarithmic function\n",
    "\n",
    "def log(a,b):\n",
    "    return math.log(a,b)"
   ]
  },
  {
   "cell_type": "code",
   "execution_count": 10,
   "id": "ce09d476",
   "metadata": {},
   "outputs": [],
   "source": [
    "# Highest Common Factor function\n",
    "\n",
    "def hcf(a,b):\n",
    "    return math.gcd(a,b)"
   ]
  },
  {
   "cell_type": "code",
   "execution_count": 11,
   "id": "d35a4b94",
   "metadata": {},
   "outputs": [],
   "source": [
    "# Lowest Common Multiple function\n",
    "\n",
    "def lcm(a,b):\n",
    "    return (a*b)/math.gcd(a,b)"
   ]
  },
  {
   "cell_type": "markdown",
   "id": "8c117638",
   "metadata": {},
   "source": [
    "## Function call for output (partial function)"
   ]
  },
  {
   "cell_type": "code",
   "execution_count": 12,
   "id": "530465f8",
   "metadata": {},
   "outputs": [],
   "source": [
    "# Using partial function to show output on screen\n",
    "# ch is variable for choice\n",
    "# n1 is variable for number1\n",
    "# n2 is variable for number2\n",
    "\n",
    "def call_result(label_result,ch, n1, n2):  \n",
    "    n = float(n1.get())                      \n",
    "    m = float(n2.get())                            # extracting values of n1, n2, ch\n",
    "    choice = int(ch.get())\n",
    "    \n",
    "    if choice==1:\n",
    "        result = add(n,m)\n",
    "        label_result.config(text=\"Result = %s\" % result)\n",
    "        \n",
    "    elif choice==2:\n",
    "        result = subtract(n,m)\n",
    "        label_result.config(text=\"Result = %s\" % result)\n",
    "        \n",
    "    elif choice==3:\n",
    "        result = multiply(n,m)\n",
    "        label_result.config(text=\"Result = %s\" % result)\n",
    "        \n",
    "    elif choice==4:\n",
    "        result = divide(n,m)\n",
    "        label_result.config(text=\"Result = %s\" % result)\n",
    "        \n",
    "    elif choice==5:\n",
    "        result = power(n,m)\n",
    "        label_result.config(text=\"Result = %s\" % result)\n",
    "        \n",
    "    elif choice==6:\n",
    "        result = log(n,m)\n",
    "        label_result.config(text=\"Result = %s\" % result)\n",
    "        \n",
    "    elif choice==7:\n",
    "        result = hcf(int(n),int(m))\n",
    "        label_result.config(text=\"Result = %s\" % result)\n",
    "        \n",
    "    elif choice==8:\n",
    "        result = lcm(int(n),int(m))\n",
    "        label_result.config(text=\"Result = %s\" % result)\n",
    "        \n",
    "    else:\n",
    "        label_result.config(text=\"Wrong option !! \")\n",
    "        \n",
    "    return  "
   ]
  },
  {
   "cell_type": "markdown",
   "id": "00352cb9",
   "metadata": {},
   "source": [
    "## GUI Window"
   ]
  },
  {
   "cell_type": "code",
   "execution_count": 13,
   "id": "11889107",
   "metadata": {},
   "outputs": [],
   "source": [
    "# Creating root window\n",
    "\n",
    "root = tk.Tk()  \n",
    "root.title(\"Scientific Calculator\")\n",
    "root.geometry(\"680x350\")\n",
    "\n",
    "# Instructions for user\n",
    "\n",
    "message = \"Please select any operation from options mentioned below:   \\n \"\n",
    "win = tk.Label(root, text=message, font=(\"Arial\",12)).grid(row=1, column=0)\n",
    "\n",
    "# List of options\n",
    "\n",
    "l1 = tk.Listbox(root,height=9,width=35)\n",
    "l1.grid(row=2, column=0)\n",
    "\n",
    "l1.insert(1,\"  1.    ADD\")   \n",
    "l1.insert(2,\"  2.    SUBTRACT\")\n",
    "l1.insert(3,\"  3.    MULTIPLY\")\n",
    "l1.insert(4,\"  4.    DIVIDE\")   \n",
    "l1.insert(5,\"  5.    POWER\")\n",
    "l1.insert(6,\"  6.    LOGARITHMIC\")\n",
    "l1.insert(7,\"  7.    HIGHEST COMMON FACTOR\")   \n",
    "l1.insert(8,\"  8.    LOWEST COMMON FACTOR\")\n",
    "\n",
    "# Variables for calculation (these are changed to float while calculating)\n",
    "choice = tk.StringVar() \n",
    "number1 = tk.StringVar()  \n",
    "number2 = tk.StringVar() \n",
    "\n",
    "# Label and entry method for choice variable\n",
    "labelChoice = tk.Label(root, text=\"Enter your choice:  \").grid(row=4, column=0)\n",
    "entryChoice = tk.Entry(root, textvariable=choice).grid(row=4, column=1)\n",
    "\n",
    "# Label and entry method for number1 variable\n",
    "labelNum1 = tk.Label(root, text=\"Enter first number :  \").grid(row=6, column=0)  \n",
    "entryNum1 = tk.Entry(root, textvariable=number1).grid(row=6, column=1)  \n",
    "\n",
    "# Label and entry method for number1 variable\n",
    "labelNum2 = tk.Label(root, text=\"Enter second number :  \").grid(row=8, column=0) \n",
    "entryNum2 = tk.Entry(root, textvariable=number2).grid(row=8, column=1) \n",
    "\n",
    "# Label for answer\n",
    "labelResult = tk.Label(root,text=\"Answer will appear here\",font=(\"Arial\",15))  \n",
    "labelResult.grid(row=20, column=1) \n",
    "\n",
    "# Calling partial function\n",
    "call_result = partial(call_result, labelResult, choice, number1, number2)  \n",
    "\n",
    "# Button to calculate result\n",
    "buttonCal = tk.Button(root, text=\"Calculate\", command = call_result).grid(row=17, column=0)  \n",
    "\n",
    "root.mainloop()"
   ]
  }
 ],
 "metadata": {
  "kernelspec": {
   "display_name": "Python 3",
   "language": "python",
   "name": "python3"
  },
  "language_info": {
   "codemirror_mode": {
    "name": "ipython",
    "version": 3
   },
   "file_extension": ".py",
   "mimetype": "text/x-python",
   "name": "python",
   "nbconvert_exporter": "python",
   "pygments_lexer": "ipython3",
   "version": "3.8.8"
  }
 },
 "nbformat": 4,
 "nbformat_minor": 5
}
