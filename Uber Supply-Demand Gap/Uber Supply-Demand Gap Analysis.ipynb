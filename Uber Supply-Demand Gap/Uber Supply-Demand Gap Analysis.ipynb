{
 "cells": [
  {
   "cell_type": "markdown",
   "id": "238dff3e",
   "metadata": {},
   "source": [
    "# <font color='orange'><center> Uber Supply-Demand Gap Analysis</center></font>"
   ]
  },
  {
   "cell_type": "markdown",
   "id": "5d41382a",
   "metadata": {},
   "source": [
    "## Importing libraries"
   ]
  },
  {
   "cell_type": "code",
   "execution_count": 1,
   "id": "1c8732e4",
   "metadata": {},
   "outputs": [],
   "source": [
    "# Importing warnings package to supress warnings\n",
    "import warnings\n",
    "warnings.filterwarnings('ignore')"
   ]
  },
  {
   "cell_type": "code",
   "execution_count": 2,
   "id": "89493bef",
   "metadata": {},
   "outputs": [],
   "source": [
    "# Importing required the packages\n",
    "\n",
    "import numpy as np\n",
    "import pandas as pd\n",
    "import datetime as dt\n",
    "import matplotlib.pyplot as plt\n",
    "import seaborn as sns"
   ]
  },
  {
   "cell_type": "markdown",
   "id": "9c1faf27",
   "metadata": {},
   "source": [
    "## Importing Dataset"
   ]
  },
  {
   "cell_type": "code",
   "execution_count": 76,
   "id": "f1ec4b75",
   "metadata": {},
   "outputs": [
    {
     "data": {
      "text/html": [
       "<div>\n",
       "<style scoped>\n",
       "    .dataframe tbody tr th:only-of-type {\n",
       "        vertical-align: middle;\n",
       "    }\n",
       "\n",
       "    .dataframe tbody tr th {\n",
       "        vertical-align: top;\n",
       "    }\n",
       "\n",
       "    .dataframe thead th {\n",
       "        text-align: right;\n",
       "    }\n",
       "</style>\n",
       "<table border=\"1\" class=\"dataframe\">\n",
       "  <thead>\n",
       "    <tr style=\"text-align: right;\">\n",
       "      <th></th>\n",
       "      <th>Request id</th>\n",
       "      <th>Pickup point</th>\n",
       "      <th>Driver id</th>\n",
       "      <th>Status</th>\n",
       "      <th>Request timestamp</th>\n",
       "      <th>Drop timestamp</th>\n",
       "    </tr>\n",
       "  </thead>\n",
       "  <tbody>\n",
       "    <tr>\n",
       "      <th>0</th>\n",
       "      <td>619</td>\n",
       "      <td>Airport</td>\n",
       "      <td>1.0</td>\n",
       "      <td>Trip Completed</td>\n",
       "      <td>11/7/2016 11:51</td>\n",
       "      <td>11/7/2016 13:00</td>\n",
       "    </tr>\n",
       "    <tr>\n",
       "      <th>1</th>\n",
       "      <td>867</td>\n",
       "      <td>Airport</td>\n",
       "      <td>1.0</td>\n",
       "      <td>Trip Completed</td>\n",
       "      <td>11/7/2016 17:57</td>\n",
       "      <td>11/7/2016 18:47</td>\n",
       "    </tr>\n",
       "    <tr>\n",
       "      <th>2</th>\n",
       "      <td>1807</td>\n",
       "      <td>City</td>\n",
       "      <td>1.0</td>\n",
       "      <td>Trip Completed</td>\n",
       "      <td>12/7/2016 9:17</td>\n",
       "      <td>12/7/2016 9:58</td>\n",
       "    </tr>\n",
       "    <tr>\n",
       "      <th>3</th>\n",
       "      <td>2532</td>\n",
       "      <td>Airport</td>\n",
       "      <td>1.0</td>\n",
       "      <td>Trip Completed</td>\n",
       "      <td>12/7/2016 21:08</td>\n",
       "      <td>12/7/2016 22:03</td>\n",
       "    </tr>\n",
       "    <tr>\n",
       "      <th>4</th>\n",
       "      <td>3112</td>\n",
       "      <td>City</td>\n",
       "      <td>1.0</td>\n",
       "      <td>Trip Completed</td>\n",
       "      <td>13-07-2016 08:33:16</td>\n",
       "      <td>13-07-2016 09:25:47</td>\n",
       "    </tr>\n",
       "    <tr>\n",
       "      <th>5</th>\n",
       "      <td>3879</td>\n",
       "      <td>Airport</td>\n",
       "      <td>1.0</td>\n",
       "      <td>Trip Completed</td>\n",
       "      <td>13-07-2016 21:57:28</td>\n",
       "      <td>13-07-2016 22:28:59</td>\n",
       "    </tr>\n",
       "    <tr>\n",
       "      <th>6</th>\n",
       "      <td>4270</td>\n",
       "      <td>Airport</td>\n",
       "      <td>1.0</td>\n",
       "      <td>Trip Completed</td>\n",
       "      <td>14-07-2016 06:15:32</td>\n",
       "      <td>14-07-2016 07:13:15</td>\n",
       "    </tr>\n",
       "    <tr>\n",
       "      <th>7</th>\n",
       "      <td>5510</td>\n",
       "      <td>Airport</td>\n",
       "      <td>1.0</td>\n",
       "      <td>Trip Completed</td>\n",
       "      <td>15-07-2016 05:11:52</td>\n",
       "      <td>15-07-2016 06:07:52</td>\n",
       "    </tr>\n",
       "    <tr>\n",
       "      <th>8</th>\n",
       "      <td>6248</td>\n",
       "      <td>City</td>\n",
       "      <td>1.0</td>\n",
       "      <td>Trip Completed</td>\n",
       "      <td>15-07-2016 17:57:27</td>\n",
       "      <td>15-07-2016 18:50:51</td>\n",
       "    </tr>\n",
       "    <tr>\n",
       "      <th>9</th>\n",
       "      <td>267</td>\n",
       "      <td>City</td>\n",
       "      <td>2.0</td>\n",
       "      <td>Trip Completed</td>\n",
       "      <td>11/7/2016 6:46</td>\n",
       "      <td>11/7/2016 7:25</td>\n",
       "    </tr>\n",
       "  </tbody>\n",
       "</table>\n",
       "</div>"
      ],
      "text/plain": [
       "   Request id Pickup point  Driver id          Status    Request timestamp  \\\n",
       "0         619      Airport        1.0  Trip Completed      11/7/2016 11:51   \n",
       "1         867      Airport        1.0  Trip Completed      11/7/2016 17:57   \n",
       "2        1807         City        1.0  Trip Completed       12/7/2016 9:17   \n",
       "3        2532      Airport        1.0  Trip Completed      12/7/2016 21:08   \n",
       "4        3112         City        1.0  Trip Completed  13-07-2016 08:33:16   \n",
       "5        3879      Airport        1.0  Trip Completed  13-07-2016 21:57:28   \n",
       "6        4270      Airport        1.0  Trip Completed  14-07-2016 06:15:32   \n",
       "7        5510      Airport        1.0  Trip Completed  15-07-2016 05:11:52   \n",
       "8        6248         City        1.0  Trip Completed  15-07-2016 17:57:27   \n",
       "9         267         City        2.0  Trip Completed       11/7/2016 6:46   \n",
       "\n",
       "        Drop timestamp  \n",
       "0      11/7/2016 13:00  \n",
       "1      11/7/2016 18:47  \n",
       "2       12/7/2016 9:58  \n",
       "3      12/7/2016 22:03  \n",
       "4  13-07-2016 09:25:47  \n",
       "5  13-07-2016 22:28:59  \n",
       "6  14-07-2016 07:13:15  \n",
       "7  15-07-2016 06:07:52  \n",
       "8  15-07-2016 18:50:51  \n",
       "9       11/7/2016 7:25  "
      ]
     },
     "execution_count": 76,
     "metadata": {},
     "output_type": "execute_result"
    }
   ],
   "source": [
    "# Importing the csv file here\n",
    "uber = pd.read_csv(\"Uber Request Data.csv\")\n",
    "\n",
    "# viewing csv file \n",
    "uber.head(10)"
   ]
  },
  {
   "cell_type": "markdown",
   "id": "fcffdfa0",
   "metadata": {},
   "source": [
    "## Inspecting the dataframe"
   ]
  },
  {
   "cell_type": "code",
   "execution_count": 77,
   "id": "f709cf02",
   "metadata": {},
   "outputs": [
    {
     "name": "stdout",
     "output_type": "stream",
     "text": [
      "(6745, 6)\n"
     ]
    }
   ],
   "source": [
    "# To find dimensionality of the DataFrame.\n",
    "print(uber.shape)"
   ]
  },
  {
   "cell_type": "code",
   "execution_count": 78,
   "id": "50580f7a",
   "metadata": {},
   "outputs": [
    {
     "name": "stdout",
     "output_type": "stream",
     "text": [
      "<class 'pandas.core.frame.DataFrame'>\n",
      "RangeIndex: 6745 entries, 0 to 6744\n",
      "Data columns (total 6 columns):\n",
      " #   Column             Non-Null Count  Dtype  \n",
      "---  ------             --------------  -----  \n",
      " 0   Request id         6745 non-null   int64  \n",
      " 1   Pickup point       6745 non-null   object \n",
      " 2   Driver id          4095 non-null   float64\n",
      " 3   Status             6745 non-null   object \n",
      " 4   Request timestamp  6745 non-null   object \n",
      " 5   Drop timestamp     2831 non-null   object \n",
      "dtypes: float64(1), int64(1), object(4)\n",
      "memory usage: 316.3+ KB\n",
      "None\n"
     ]
    }
   ],
   "source": [
    "# To print information about a DataFrame including the index dtype and columns, non-null values and memory usage.\n",
    "print(uber.info())"
   ]
  },
  {
   "cell_type": "code",
   "execution_count": 79,
   "id": "8de9d7d6",
   "metadata": {},
   "outputs": [
    {
     "name": "stdout",
     "output_type": "stream",
     "text": [
      "        Request id    Driver id\n",
      "count  6745.000000  4095.000000\n",
      "mean   3384.644922   149.501343\n",
      "std    1955.099667    86.051994\n",
      "min       1.000000     1.000000\n",
      "25%    1691.000000    75.000000\n",
      "50%    3387.000000   149.000000\n",
      "75%    5080.000000   224.000000\n",
      "max    6766.000000   300.000000\n"
     ]
    }
   ],
   "source": [
    "# To generate descriptive statistics.\n",
    "print(uber.describe())"
   ]
  },
  {
   "cell_type": "markdown",
   "id": "d90707c4",
   "metadata": {},
   "source": [
    "## Checking for data quality issues and cleaning"
   ]
  },
  {
   "cell_type": "code",
   "execution_count": 80,
   "id": "13101bb7",
   "metadata": {},
   "outputs": [
    {
     "data": {
      "text/html": [
       "<div>\n",
       "<style scoped>\n",
       "    .dataframe tbody tr th:only-of-type {\n",
       "        vertical-align: middle;\n",
       "    }\n",
       "\n",
       "    .dataframe tbody tr th {\n",
       "        vertical-align: top;\n",
       "    }\n",
       "\n",
       "    .dataframe thead th {\n",
       "        text-align: right;\n",
       "    }\n",
       "</style>\n",
       "<table border=\"1\" class=\"dataframe\">\n",
       "  <thead>\n",
       "    <tr style=\"text-align: right;\">\n",
       "      <th></th>\n",
       "      <th>Request_id</th>\n",
       "      <th>Pickup_point</th>\n",
       "      <th>Driver_id</th>\n",
       "      <th>Status</th>\n",
       "      <th>Request_timestamp</th>\n",
       "      <th>Drop_timestamp</th>\n",
       "    </tr>\n",
       "  </thead>\n",
       "  <tbody>\n",
       "    <tr>\n",
       "      <th>0</th>\n",
       "      <td>619</td>\n",
       "      <td>Airport</td>\n",
       "      <td>1.0</td>\n",
       "      <td>Trip Completed</td>\n",
       "      <td>11/7/2016 11:51</td>\n",
       "      <td>11/7/2016 13:00</td>\n",
       "    </tr>\n",
       "    <tr>\n",
       "      <th>1</th>\n",
       "      <td>867</td>\n",
       "      <td>Airport</td>\n",
       "      <td>1.0</td>\n",
       "      <td>Trip Completed</td>\n",
       "      <td>11/7/2016 17:57</td>\n",
       "      <td>11/7/2016 18:47</td>\n",
       "    </tr>\n",
       "    <tr>\n",
       "      <th>2</th>\n",
       "      <td>1807</td>\n",
       "      <td>City</td>\n",
       "      <td>1.0</td>\n",
       "      <td>Trip Completed</td>\n",
       "      <td>12/7/2016 9:17</td>\n",
       "      <td>12/7/2016 9:58</td>\n",
       "    </tr>\n",
       "    <tr>\n",
       "      <th>3</th>\n",
       "      <td>2532</td>\n",
       "      <td>Airport</td>\n",
       "      <td>1.0</td>\n",
       "      <td>Trip Completed</td>\n",
       "      <td>12/7/2016 21:08</td>\n",
       "      <td>12/7/2016 22:03</td>\n",
       "    </tr>\n",
       "    <tr>\n",
       "      <th>4</th>\n",
       "      <td>3112</td>\n",
       "      <td>City</td>\n",
       "      <td>1.0</td>\n",
       "      <td>Trip Completed</td>\n",
       "      <td>13-07-2016 08:33:16</td>\n",
       "      <td>13-07-2016 09:25:47</td>\n",
       "    </tr>\n",
       "  </tbody>\n",
       "</table>\n",
       "</div>"
      ],
      "text/plain": [
       "   Request_id Pickup_point  Driver_id          Status    Request_timestamp  \\\n",
       "0         619      Airport        1.0  Trip Completed      11/7/2016 11:51   \n",
       "1         867      Airport        1.0  Trip Completed      11/7/2016 17:57   \n",
       "2        1807         City        1.0  Trip Completed       12/7/2016 9:17   \n",
       "3        2532      Airport        1.0  Trip Completed      12/7/2016 21:08   \n",
       "4        3112         City        1.0  Trip Completed  13-07-2016 08:33:16   \n",
       "\n",
       "        Drop_timestamp  \n",
       "0      11/7/2016 13:00  \n",
       "1      11/7/2016 18:47  \n",
       "2       12/7/2016 9:58  \n",
       "3      12/7/2016 22:03  \n",
       "4  13-07-2016 09:25:47  "
      ]
     },
     "execution_count": 80,
     "metadata": {},
     "output_type": "execute_result"
    }
   ],
   "source": [
    "# replacing space in column with '_'\n",
    "uber.columns = uber.columns.str.replace(' ', '_')\n",
    "uber.head()"
   ]
  },
  {
   "cell_type": "code",
   "execution_count": 81,
   "id": "0ba37189",
   "metadata": {},
   "outputs": [
    {
     "data": {
      "text/plain": [
       "0"
      ]
     },
     "execution_count": 81,
     "metadata": {},
     "output_type": "execute_result"
    }
   ],
   "source": [
    "#checking for any duplicate rows\n",
    "uber.duplicated(subset='Request_id',keep= False).sum()"
   ]
  },
  {
   "cell_type": "code",
   "execution_count": 85,
   "id": "d3ad54c2",
   "metadata": {},
   "outputs": [
    {
     "data": {
      "text/plain": [
       "array(['Airport', 'City'], dtype=object)"
      ]
     },
     "execution_count": 85,
     "metadata": {},
     "output_type": "execute_result"
    }
   ],
   "source": [
    "# checking for any spelling mistake in Pickup point\n",
    "# to avoid spelling mistake\n",
    "uber['Pickup_point'].unique()"
   ]
  },
  {
   "cell_type": "markdown",
   "id": "85f4613b",
   "metadata": {},
   "source": [
    "#### This means no spelling mistake in Pickup Point values"
   ]
  },
  {
   "cell_type": "code",
   "execution_count": 84,
   "id": "0fc21404",
   "metadata": {},
   "outputs": [
    {
     "data": {
      "text/plain": [
       "array(['Trip Completed', 'Cancelled', 'No Cars Available'], dtype=object)"
      ]
     },
     "execution_count": 84,
     "metadata": {},
     "output_type": "execute_result"
    }
   ],
   "source": [
    "# checking for any spelling mistake in status\n",
    "# to avoid spelling mistake\n",
    "uber['Status'].unique()"
   ]
  },
  {
   "cell_type": "markdown",
   "id": "fce7e184",
   "metadata": {},
   "source": [
    "#### This means no spelling mistake in Status values"
   ]
  },
  {
   "cell_type": "code",
   "execution_count": 86,
   "id": "c8d09b1c",
   "metadata": {},
   "outputs": [
    {
     "data": {
      "text/plain": [
       "Request_id              0\n",
       "Pickup_point            0\n",
       "Driver_id            2650\n",
       "Status                  0\n",
       "Request_timestamp       0\n",
       "Drop_timestamp       3914\n",
       "dtype: int64"
      ]
     },
     "execution_count": 86,
     "metadata": {},
     "output_type": "execute_result"
    }
   ],
   "source": [
    "#Inspecting Null values\n",
    "uber.isnull().sum()\n"
   ]
  },
  {
   "cell_type": "markdown",
   "id": "ada3a0a6",
   "metadata": {},
   "source": [
    "#### It looks valid to have Driver id and Drop timestamp have null values.\n",
    "#### Hence these null values are retained as such in the data."
   ]
  },
  {
   "cell_type": "markdown",
   "id": "a868894f",
   "metadata": {},
   "source": [
    "## Data preparation"
   ]
  },
  {
   "cell_type": "code",
   "execution_count": 87,
   "id": "3546781b",
   "metadata": {},
   "outputs": [
    {
     "data": {
      "text/html": [
       "<div>\n",
       "<style scoped>\n",
       "    .dataframe tbody tr th:only-of-type {\n",
       "        vertical-align: middle;\n",
       "    }\n",
       "\n",
       "    .dataframe tbody tr th {\n",
       "        vertical-align: top;\n",
       "    }\n",
       "\n",
       "    .dataframe thead th {\n",
       "        text-align: right;\n",
       "    }\n",
       "</style>\n",
       "<table border=\"1\" class=\"dataframe\">\n",
       "  <thead>\n",
       "    <tr style=\"text-align: right;\">\n",
       "      <th></th>\n",
       "      <th>Request_id</th>\n",
       "      <th>Pickup_point</th>\n",
       "      <th>Driver_id</th>\n",
       "      <th>Status</th>\n",
       "      <th>Request_timestamp</th>\n",
       "      <th>Drop_timestamp</th>\n",
       "      <th>request_Date_Time</th>\n",
       "      <th>drop_Date_Time</th>\n",
       "    </tr>\n",
       "  </thead>\n",
       "  <tbody>\n",
       "    <tr>\n",
       "      <th>0</th>\n",
       "      <td>619</td>\n",
       "      <td>Airport</td>\n",
       "      <td>1.0</td>\n",
       "      <td>Trip Completed</td>\n",
       "      <td>11/7/2016 11:51</td>\n",
       "      <td>11/7/2016 13:00</td>\n",
       "      <td>2016-07-11 11:51:00</td>\n",
       "      <td>2016-07-11 13:00:00</td>\n",
       "    </tr>\n",
       "    <tr>\n",
       "      <th>1</th>\n",
       "      <td>867</td>\n",
       "      <td>Airport</td>\n",
       "      <td>1.0</td>\n",
       "      <td>Trip Completed</td>\n",
       "      <td>11/7/2016 17:57</td>\n",
       "      <td>11/7/2016 18:47</td>\n",
       "      <td>2016-07-11 17:57:00</td>\n",
       "      <td>2016-07-11 18:47:00</td>\n",
       "    </tr>\n",
       "    <tr>\n",
       "      <th>2</th>\n",
       "      <td>1807</td>\n",
       "      <td>City</td>\n",
       "      <td>1.0</td>\n",
       "      <td>Trip Completed</td>\n",
       "      <td>12/7/2016 9:17</td>\n",
       "      <td>12/7/2016 9:58</td>\n",
       "      <td>2016-07-12 09:17:00</td>\n",
       "      <td>2016-07-12 09:58:00</td>\n",
       "    </tr>\n",
       "    <tr>\n",
       "      <th>3</th>\n",
       "      <td>2532</td>\n",
       "      <td>Airport</td>\n",
       "      <td>1.0</td>\n",
       "      <td>Trip Completed</td>\n",
       "      <td>12/7/2016 21:08</td>\n",
       "      <td>12/7/2016 22:03</td>\n",
       "      <td>2016-07-12 21:08:00</td>\n",
       "      <td>2016-07-12 22:03:00</td>\n",
       "    </tr>\n",
       "    <tr>\n",
       "      <th>4</th>\n",
       "      <td>3112</td>\n",
       "      <td>City</td>\n",
       "      <td>1.0</td>\n",
       "      <td>Trip Completed</td>\n",
       "      <td>13-07-2016 08:33:16</td>\n",
       "      <td>13-07-2016 09:25:47</td>\n",
       "      <td>2016-07-13 08:33:16</td>\n",
       "      <td>2016-07-13 09:25:47</td>\n",
       "    </tr>\n",
       "    <tr>\n",
       "      <th>5</th>\n",
       "      <td>3879</td>\n",
       "      <td>Airport</td>\n",
       "      <td>1.0</td>\n",
       "      <td>Trip Completed</td>\n",
       "      <td>13-07-2016 21:57:28</td>\n",
       "      <td>13-07-2016 22:28:59</td>\n",
       "      <td>2016-07-13 21:57:28</td>\n",
       "      <td>2016-07-13 22:28:59</td>\n",
       "    </tr>\n",
       "    <tr>\n",
       "      <th>6</th>\n",
       "      <td>4270</td>\n",
       "      <td>Airport</td>\n",
       "      <td>1.0</td>\n",
       "      <td>Trip Completed</td>\n",
       "      <td>14-07-2016 06:15:32</td>\n",
       "      <td>14-07-2016 07:13:15</td>\n",
       "      <td>2016-07-14 06:15:32</td>\n",
       "      <td>2016-07-14 07:13:15</td>\n",
       "    </tr>\n",
       "    <tr>\n",
       "      <th>7</th>\n",
       "      <td>5510</td>\n",
       "      <td>Airport</td>\n",
       "      <td>1.0</td>\n",
       "      <td>Trip Completed</td>\n",
       "      <td>15-07-2016 05:11:52</td>\n",
       "      <td>15-07-2016 06:07:52</td>\n",
       "      <td>2016-07-15 05:11:52</td>\n",
       "      <td>2016-07-15 06:07:52</td>\n",
       "    </tr>\n",
       "    <tr>\n",
       "      <th>8</th>\n",
       "      <td>6248</td>\n",
       "      <td>City</td>\n",
       "      <td>1.0</td>\n",
       "      <td>Trip Completed</td>\n",
       "      <td>15-07-2016 17:57:27</td>\n",
       "      <td>15-07-2016 18:50:51</td>\n",
       "      <td>2016-07-15 17:57:27</td>\n",
       "      <td>2016-07-15 18:50:51</td>\n",
       "    </tr>\n",
       "    <tr>\n",
       "      <th>9</th>\n",
       "      <td>267</td>\n",
       "      <td>City</td>\n",
       "      <td>2.0</td>\n",
       "      <td>Trip Completed</td>\n",
       "      <td>11/7/2016 6:46</td>\n",
       "      <td>11/7/2016 7:25</td>\n",
       "      <td>2016-07-11 06:46:00</td>\n",
       "      <td>2016-07-11 07:25:00</td>\n",
       "    </tr>\n",
       "    <tr>\n",
       "      <th>10</th>\n",
       "      <td>1467</td>\n",
       "      <td>Airport</td>\n",
       "      <td>2.0</td>\n",
       "      <td>Trip Completed</td>\n",
       "      <td>12/7/2016 5:08</td>\n",
       "      <td>12/7/2016 6:02</td>\n",
       "      <td>2016-07-12 05:08:00</td>\n",
       "      <td>2016-07-12 06:02:00</td>\n",
       "    </tr>\n",
       "    <tr>\n",
       "      <th>11</th>\n",
       "      <td>1983</td>\n",
       "      <td>City</td>\n",
       "      <td>2.0</td>\n",
       "      <td>Trip Completed</td>\n",
       "      <td>12/7/2016 12:30</td>\n",
       "      <td>12/7/2016 12:57</td>\n",
       "      <td>2016-07-12 12:30:00</td>\n",
       "      <td>2016-07-12 12:57:00</td>\n",
       "    </tr>\n",
       "    <tr>\n",
       "      <th>12</th>\n",
       "      <td>2784</td>\n",
       "      <td>Airport</td>\n",
       "      <td>2.0</td>\n",
       "      <td>Trip Completed</td>\n",
       "      <td>13-07-2016 04:49:20</td>\n",
       "      <td>13-07-2016 05:23:03</td>\n",
       "      <td>2016-07-13 04:49:20</td>\n",
       "      <td>2016-07-13 05:23:03</td>\n",
       "    </tr>\n",
       "    <tr>\n",
       "      <th>13</th>\n",
       "      <td>3075</td>\n",
       "      <td>City</td>\n",
       "      <td>2.0</td>\n",
       "      <td>Trip Completed</td>\n",
       "      <td>13-07-2016 08:02:53</td>\n",
       "      <td>13-07-2016 09:16:19</td>\n",
       "      <td>2016-07-13 08:02:53</td>\n",
       "      <td>2016-07-13 09:16:19</td>\n",
       "    </tr>\n",
       "    <tr>\n",
       "      <th>14</th>\n",
       "      <td>3379</td>\n",
       "      <td>City</td>\n",
       "      <td>2.0</td>\n",
       "      <td>Trip Completed</td>\n",
       "      <td>13-07-2016 14:23:02</td>\n",
       "      <td>13-07-2016 15:35:18</td>\n",
       "      <td>2016-07-13 14:23:02</td>\n",
       "      <td>2016-07-13 15:35:18</td>\n",
       "    </tr>\n",
       "  </tbody>\n",
       "</table>\n",
       "</div>"
      ],
      "text/plain": [
       "    Request_id Pickup_point  Driver_id          Status    Request_timestamp  \\\n",
       "0          619      Airport        1.0  Trip Completed      11/7/2016 11:51   \n",
       "1          867      Airport        1.0  Trip Completed      11/7/2016 17:57   \n",
       "2         1807         City        1.0  Trip Completed       12/7/2016 9:17   \n",
       "3         2532      Airport        1.0  Trip Completed      12/7/2016 21:08   \n",
       "4         3112         City        1.0  Trip Completed  13-07-2016 08:33:16   \n",
       "5         3879      Airport        1.0  Trip Completed  13-07-2016 21:57:28   \n",
       "6         4270      Airport        1.0  Trip Completed  14-07-2016 06:15:32   \n",
       "7         5510      Airport        1.0  Trip Completed  15-07-2016 05:11:52   \n",
       "8         6248         City        1.0  Trip Completed  15-07-2016 17:57:27   \n",
       "9          267         City        2.0  Trip Completed       11/7/2016 6:46   \n",
       "10        1467      Airport        2.0  Trip Completed       12/7/2016 5:08   \n",
       "11        1983         City        2.0  Trip Completed      12/7/2016 12:30   \n",
       "12        2784      Airport        2.0  Trip Completed  13-07-2016 04:49:20   \n",
       "13        3075         City        2.0  Trip Completed  13-07-2016 08:02:53   \n",
       "14        3379         City        2.0  Trip Completed  13-07-2016 14:23:02   \n",
       "\n",
       "         Drop_timestamp   request_Date_Time      drop_Date_Time  \n",
       "0       11/7/2016 13:00 2016-07-11 11:51:00 2016-07-11 13:00:00  \n",
       "1       11/7/2016 18:47 2016-07-11 17:57:00 2016-07-11 18:47:00  \n",
       "2        12/7/2016 9:58 2016-07-12 09:17:00 2016-07-12 09:58:00  \n",
       "3       12/7/2016 22:03 2016-07-12 21:08:00 2016-07-12 22:03:00  \n",
       "4   13-07-2016 09:25:47 2016-07-13 08:33:16 2016-07-13 09:25:47  \n",
       "5   13-07-2016 22:28:59 2016-07-13 21:57:28 2016-07-13 22:28:59  \n",
       "6   14-07-2016 07:13:15 2016-07-14 06:15:32 2016-07-14 07:13:15  \n",
       "7   15-07-2016 06:07:52 2016-07-15 05:11:52 2016-07-15 06:07:52  \n",
       "8   15-07-2016 18:50:51 2016-07-15 17:57:27 2016-07-15 18:50:51  \n",
       "9        11/7/2016 7:25 2016-07-11 06:46:00 2016-07-11 07:25:00  \n",
       "10       12/7/2016 6:02 2016-07-12 05:08:00 2016-07-12 06:02:00  \n",
       "11      12/7/2016 12:57 2016-07-12 12:30:00 2016-07-12 12:57:00  \n",
       "12  13-07-2016 05:23:03 2016-07-13 04:49:20 2016-07-13 05:23:03  \n",
       "13  13-07-2016 09:16:19 2016-07-13 08:02:53 2016-07-13 09:16:19  \n",
       "14  13-07-2016 15:35:18 2016-07-13 14:23:02 2016-07-13 15:35:18  "
      ]
     },
     "execution_count": 87,
     "metadata": {},
     "output_type": "execute_result"
    }
   ],
   "source": [
    "#as we saw that'Request timestamp and Drop timestamp' is object type\n",
    "#converting Request timestamp and Drop timestamp to datetime type- by creating new columns\n",
    "\n",
    "uber['request_Date_Time'] = pd.to_datetime(uber['Request_timestamp'],dayfirst=True)\n",
    "uber['drop_Date_Time'] = pd.to_datetime(uber['Drop_timestamp'],dayfirst=True)\n",
    "uber.head(15)"
   ]
  },
  {
   "cell_type": "code",
   "execution_count": 88,
   "id": "7b013a0d",
   "metadata": {},
   "outputs": [
    {
     "name": "stdout",
     "output_type": "stream",
     "text": [
      "<class 'pandas.core.frame.DataFrame'>\n",
      "RangeIndex: 6745 entries, 0 to 6744\n",
      "Data columns (total 8 columns):\n",
      " #   Column             Non-Null Count  Dtype         \n",
      "---  ------             --------------  -----         \n",
      " 0   Request_id         6745 non-null   int64         \n",
      " 1   Pickup_point       6745 non-null   object        \n",
      " 2   Driver_id          4095 non-null   float64       \n",
      " 3   Status             6745 non-null   object        \n",
      " 4   Request_timestamp  6745 non-null   object        \n",
      " 5   Drop_timestamp     2831 non-null   object        \n",
      " 6   request_Date_Time  6745 non-null   datetime64[ns]\n",
      " 7   drop_Date_Time     2831 non-null   datetime64[ns]\n",
      "dtypes: datetime64[ns](2), float64(1), int64(1), object(4)\n",
      "memory usage: 421.7+ KB\n",
      "None\n"
     ]
    }
   ],
   "source": [
    "#checking if request_Date_Time and drop_Date_Time got converted to datetime type or not\n",
    "print(uber.info())"
   ]
  },
  {
   "cell_type": "code",
   "execution_count": 89,
   "id": "a6d74dcd",
   "metadata": {},
   "outputs": [
    {
     "data": {
      "text/html": [
       "<div>\n",
       "<style scoped>\n",
       "    .dataframe tbody tr th:only-of-type {\n",
       "        vertical-align: middle;\n",
       "    }\n",
       "\n",
       "    .dataframe tbody tr th {\n",
       "        vertical-align: top;\n",
       "    }\n",
       "\n",
       "    .dataframe thead th {\n",
       "        text-align: right;\n",
       "    }\n",
       "</style>\n",
       "<table border=\"1\" class=\"dataframe\">\n",
       "  <thead>\n",
       "    <tr style=\"text-align: right;\">\n",
       "      <th></th>\n",
       "      <th>Request_id</th>\n",
       "      <th>Pickup_point</th>\n",
       "      <th>Driver_id</th>\n",
       "      <th>Status</th>\n",
       "      <th>request_Date_Time</th>\n",
       "      <th>drop_Date_Time</th>\n",
       "    </tr>\n",
       "  </thead>\n",
       "  <tbody>\n",
       "    <tr>\n",
       "      <th>0</th>\n",
       "      <td>619</td>\n",
       "      <td>Airport</td>\n",
       "      <td>1.0</td>\n",
       "      <td>Trip Completed</td>\n",
       "      <td>2016-07-11 11:51:00</td>\n",
       "      <td>2016-07-11 13:00:00</td>\n",
       "    </tr>\n",
       "    <tr>\n",
       "      <th>1</th>\n",
       "      <td>867</td>\n",
       "      <td>Airport</td>\n",
       "      <td>1.0</td>\n",
       "      <td>Trip Completed</td>\n",
       "      <td>2016-07-11 17:57:00</td>\n",
       "      <td>2016-07-11 18:47:00</td>\n",
       "    </tr>\n",
       "    <tr>\n",
       "      <th>2</th>\n",
       "      <td>1807</td>\n",
       "      <td>City</td>\n",
       "      <td>1.0</td>\n",
       "      <td>Trip Completed</td>\n",
       "      <td>2016-07-12 09:17:00</td>\n",
       "      <td>2016-07-12 09:58:00</td>\n",
       "    </tr>\n",
       "    <tr>\n",
       "      <th>3</th>\n",
       "      <td>2532</td>\n",
       "      <td>Airport</td>\n",
       "      <td>1.0</td>\n",
       "      <td>Trip Completed</td>\n",
       "      <td>2016-07-12 21:08:00</td>\n",
       "      <td>2016-07-12 22:03:00</td>\n",
       "    </tr>\n",
       "    <tr>\n",
       "      <th>4</th>\n",
       "      <td>3112</td>\n",
       "      <td>City</td>\n",
       "      <td>1.0</td>\n",
       "      <td>Trip Completed</td>\n",
       "      <td>2016-07-13 08:33:16</td>\n",
       "      <td>2016-07-13 09:25:47</td>\n",
       "    </tr>\n",
       "  </tbody>\n",
       "</table>\n",
       "</div>"
      ],
      "text/plain": [
       "   Request_id Pickup_point  Driver_id          Status   request_Date_Time  \\\n",
       "0         619      Airport        1.0  Trip Completed 2016-07-11 11:51:00   \n",
       "1         867      Airport        1.0  Trip Completed 2016-07-11 17:57:00   \n",
       "2        1807         City        1.0  Trip Completed 2016-07-12 09:17:00   \n",
       "3        2532      Airport        1.0  Trip Completed 2016-07-12 21:08:00   \n",
       "4        3112         City        1.0  Trip Completed 2016-07-13 08:33:16   \n",
       "\n",
       "       drop_Date_Time  \n",
       "0 2016-07-11 13:00:00  \n",
       "1 2016-07-11 18:47:00  \n",
       "2 2016-07-12 09:58:00  \n",
       "3 2016-07-12 22:03:00  \n",
       "4 2016-07-13 09:25:47  "
      ]
     },
     "execution_count": 89,
     "metadata": {},
     "output_type": "execute_result"
    }
   ],
   "source": [
    "#dropping Request_timestamp column and Drop_timestamp  as it is not required any further\n",
    "uber = uber.drop('Request_timestamp', axis=1)\n",
    "uber = uber.drop('Drop_timestamp', axis=1)\n",
    "uber.head()"
   ]
  },
  {
   "cell_type": "code",
   "execution_count": 90,
   "id": "e3c15f94",
   "metadata": {},
   "outputs": [
    {
     "name": "stdout",
     "output_type": "stream",
     "text": [
      "(6745, 6)\n",
      "<class 'pandas.core.frame.DataFrame'>\n",
      "RangeIndex: 6745 entries, 0 to 6744\n",
      "Data columns (total 6 columns):\n",
      " #   Column             Non-Null Count  Dtype         \n",
      "---  ------             --------------  -----         \n",
      " 0   Request_id         6745 non-null   int64         \n",
      " 1   Pickup_point       6745 non-null   object        \n",
      " 2   Driver_id          4095 non-null   float64       \n",
      " 3   Status             6745 non-null   object        \n",
      " 4   request_Date_Time  6745 non-null   datetime64[ns]\n",
      " 5   drop_Date_Time     2831 non-null   datetime64[ns]\n",
      "dtypes: datetime64[ns](2), float64(1), int64(1), object(2)\n",
      "memory usage: 316.3+ KB\n",
      "None\n"
     ]
    }
   ],
   "source": [
    "#Inspecting the dataframe after the drop\n",
    "print(uber.shape)\n",
    "print(uber.info())"
   ]
  },
  {
   "cell_type": "markdown",
   "id": "a3f55e4f",
   "metadata": {},
   "source": [
    "## Data preparation:\n",
    "\n",
    "### i)Handling request_Date_Time"
   ]
  },
  {
   "cell_type": "code",
   "execution_count": 91,
   "id": "121fd5d7",
   "metadata": {},
   "outputs": [
    {
     "data": {
      "text/plain": [
       "0"
      ]
     },
     "execution_count": 91,
     "metadata": {},
     "output_type": "execute_result"
    }
   ],
   "source": [
    "#checking if there are any NA's coerced because of invalid values in request_Date_Time\n",
    "uber['request_Date_Time'].isna().sum()"
   ]
  },
  {
   "cell_type": "code",
   "execution_count": 92,
   "id": "9aa5b2cb",
   "metadata": {},
   "outputs": [
    {
     "data": {
      "text/html": [
       "<div>\n",
       "<style scoped>\n",
       "    .dataframe tbody tr th:only-of-type {\n",
       "        vertical-align: middle;\n",
       "    }\n",
       "\n",
       "    .dataframe tbody tr th {\n",
       "        vertical-align: top;\n",
       "    }\n",
       "\n",
       "    .dataframe thead th {\n",
       "        text-align: right;\n",
       "    }\n",
       "</style>\n",
       "<table border=\"1\" class=\"dataframe\">\n",
       "  <thead>\n",
       "    <tr style=\"text-align: right;\">\n",
       "      <th></th>\n",
       "      <th>Request_id</th>\n",
       "      <th>Pickup_point</th>\n",
       "      <th>Driver_id</th>\n",
       "      <th>Status</th>\n",
       "      <th>request_Date_Time</th>\n",
       "      <th>drop_Date_Time</th>\n",
       "      <th>request_Date</th>\n",
       "      <th>request_Time</th>\n",
       "    </tr>\n",
       "  </thead>\n",
       "  <tbody>\n",
       "    <tr>\n",
       "      <th>0</th>\n",
       "      <td>619</td>\n",
       "      <td>Airport</td>\n",
       "      <td>1.0</td>\n",
       "      <td>Trip Completed</td>\n",
       "      <td>2016-07-11 11:51:00</td>\n",
       "      <td>2016-07-11 13:00:00</td>\n",
       "      <td>2016-07-11</td>\n",
       "      <td>11:51:00</td>\n",
       "    </tr>\n",
       "    <tr>\n",
       "      <th>1</th>\n",
       "      <td>867</td>\n",
       "      <td>Airport</td>\n",
       "      <td>1.0</td>\n",
       "      <td>Trip Completed</td>\n",
       "      <td>2016-07-11 17:57:00</td>\n",
       "      <td>2016-07-11 18:47:00</td>\n",
       "      <td>2016-07-11</td>\n",
       "      <td>17:57:00</td>\n",
       "    </tr>\n",
       "    <tr>\n",
       "      <th>2</th>\n",
       "      <td>1807</td>\n",
       "      <td>City</td>\n",
       "      <td>1.0</td>\n",
       "      <td>Trip Completed</td>\n",
       "      <td>2016-07-12 09:17:00</td>\n",
       "      <td>2016-07-12 09:58:00</td>\n",
       "      <td>2016-07-12</td>\n",
       "      <td>09:17:00</td>\n",
       "    </tr>\n",
       "    <tr>\n",
       "      <th>3</th>\n",
       "      <td>2532</td>\n",
       "      <td>Airport</td>\n",
       "      <td>1.0</td>\n",
       "      <td>Trip Completed</td>\n",
       "      <td>2016-07-12 21:08:00</td>\n",
       "      <td>2016-07-12 22:03:00</td>\n",
       "      <td>2016-07-12</td>\n",
       "      <td>21:08:00</td>\n",
       "    </tr>\n",
       "    <tr>\n",
       "      <th>4</th>\n",
       "      <td>3112</td>\n",
       "      <td>City</td>\n",
       "      <td>1.0</td>\n",
       "      <td>Trip Completed</td>\n",
       "      <td>2016-07-13 08:33:16</td>\n",
       "      <td>2016-07-13 09:25:47</td>\n",
       "      <td>2016-07-13</td>\n",
       "      <td>08:33:16</td>\n",
       "    </tr>\n",
       "    <tr>\n",
       "      <th>5</th>\n",
       "      <td>3879</td>\n",
       "      <td>Airport</td>\n",
       "      <td>1.0</td>\n",
       "      <td>Trip Completed</td>\n",
       "      <td>2016-07-13 21:57:28</td>\n",
       "      <td>2016-07-13 22:28:59</td>\n",
       "      <td>2016-07-13</td>\n",
       "      <td>21:57:28</td>\n",
       "    </tr>\n",
       "    <tr>\n",
       "      <th>6</th>\n",
       "      <td>4270</td>\n",
       "      <td>Airport</td>\n",
       "      <td>1.0</td>\n",
       "      <td>Trip Completed</td>\n",
       "      <td>2016-07-14 06:15:32</td>\n",
       "      <td>2016-07-14 07:13:15</td>\n",
       "      <td>2016-07-14</td>\n",
       "      <td>06:15:32</td>\n",
       "    </tr>\n",
       "    <tr>\n",
       "      <th>7</th>\n",
       "      <td>5510</td>\n",
       "      <td>Airport</td>\n",
       "      <td>1.0</td>\n",
       "      <td>Trip Completed</td>\n",
       "      <td>2016-07-15 05:11:52</td>\n",
       "      <td>2016-07-15 06:07:52</td>\n",
       "      <td>2016-07-15</td>\n",
       "      <td>05:11:52</td>\n",
       "    </tr>\n",
       "    <tr>\n",
       "      <th>8</th>\n",
       "      <td>6248</td>\n",
       "      <td>City</td>\n",
       "      <td>1.0</td>\n",
       "      <td>Trip Completed</td>\n",
       "      <td>2016-07-15 17:57:27</td>\n",
       "      <td>2016-07-15 18:50:51</td>\n",
       "      <td>2016-07-15</td>\n",
       "      <td>17:57:27</td>\n",
       "    </tr>\n",
       "    <tr>\n",
       "      <th>9</th>\n",
       "      <td>267</td>\n",
       "      <td>City</td>\n",
       "      <td>2.0</td>\n",
       "      <td>Trip Completed</td>\n",
       "      <td>2016-07-11 06:46:00</td>\n",
       "      <td>2016-07-11 07:25:00</td>\n",
       "      <td>2016-07-11</td>\n",
       "      <td>06:46:00</td>\n",
       "    </tr>\n",
       "  </tbody>\n",
       "</table>\n",
       "</div>"
      ],
      "text/plain": [
       "   Request_id Pickup_point  Driver_id          Status   request_Date_Time  \\\n",
       "0         619      Airport        1.0  Trip Completed 2016-07-11 11:51:00   \n",
       "1         867      Airport        1.0  Trip Completed 2016-07-11 17:57:00   \n",
       "2        1807         City        1.0  Trip Completed 2016-07-12 09:17:00   \n",
       "3        2532      Airport        1.0  Trip Completed 2016-07-12 21:08:00   \n",
       "4        3112         City        1.0  Trip Completed 2016-07-13 08:33:16   \n",
       "5        3879      Airport        1.0  Trip Completed 2016-07-13 21:57:28   \n",
       "6        4270      Airport        1.0  Trip Completed 2016-07-14 06:15:32   \n",
       "7        5510      Airport        1.0  Trip Completed 2016-07-15 05:11:52   \n",
       "8        6248         City        1.0  Trip Completed 2016-07-15 17:57:27   \n",
       "9         267         City        2.0  Trip Completed 2016-07-11 06:46:00   \n",
       "\n",
       "       drop_Date_Time request_Date request_Time  \n",
       "0 2016-07-11 13:00:00   2016-07-11     11:51:00  \n",
       "1 2016-07-11 18:47:00   2016-07-11     17:57:00  \n",
       "2 2016-07-12 09:58:00   2016-07-12     09:17:00  \n",
       "3 2016-07-12 22:03:00   2016-07-12     21:08:00  \n",
       "4 2016-07-13 09:25:47   2016-07-13     08:33:16  \n",
       "5 2016-07-13 22:28:59   2016-07-13     21:57:28  \n",
       "6 2016-07-14 07:13:15   2016-07-14     06:15:32  \n",
       "7 2016-07-15 06:07:52   2016-07-15     05:11:52  \n",
       "8 2016-07-15 18:50:51   2016-07-15     17:57:27  \n",
       "9 2016-07-11 07:25:00   2016-07-11     06:46:00  "
      ]
     },
     "execution_count": 92,
     "metadata": {},
     "output_type": "execute_result"
    }
   ],
   "source": [
    "#extracting date and time from request_Date_Time\n",
    "\n",
    "uber['request_Date'] = uber['request_Date_Time'].dt.date\n",
    "uber['request_Time'] = uber['request_Date_Time'].dt.time\n",
    "uber.head(10)\n"
   ]
  },
  {
   "cell_type": "code",
   "execution_count": 94,
   "id": "70629c2c",
   "metadata": {},
   "outputs": [
    {
     "data": {
      "text/html": [
       "<div>\n",
       "<style scoped>\n",
       "    .dataframe tbody tr th:only-of-type {\n",
       "        vertical-align: middle;\n",
       "    }\n",
       "\n",
       "    .dataframe tbody tr th {\n",
       "        vertical-align: top;\n",
       "    }\n",
       "\n",
       "    .dataframe thead th {\n",
       "        text-align: right;\n",
       "    }\n",
       "</style>\n",
       "<table border=\"1\" class=\"dataframe\">\n",
       "  <thead>\n",
       "    <tr style=\"text-align: right;\">\n",
       "      <th></th>\n",
       "      <th>Request_id</th>\n",
       "      <th>Pickup_point</th>\n",
       "      <th>Driver_id</th>\n",
       "      <th>Status</th>\n",
       "      <th>request_Date_Time</th>\n",
       "      <th>drop_Date_Time</th>\n",
       "      <th>request_Date</th>\n",
       "      <th>request_Time</th>\n",
       "      <th>request_DayOfWeek</th>\n",
       "    </tr>\n",
       "  </thead>\n",
       "  <tbody>\n",
       "    <tr>\n",
       "      <th>0</th>\n",
       "      <td>619</td>\n",
       "      <td>Airport</td>\n",
       "      <td>1.0</td>\n",
       "      <td>Trip Completed</td>\n",
       "      <td>2016-07-11 11:51:00</td>\n",
       "      <td>2016-07-11 13:00:00</td>\n",
       "      <td>2016-07-11</td>\n",
       "      <td>11:51:00</td>\n",
       "      <td>Monday</td>\n",
       "    </tr>\n",
       "    <tr>\n",
       "      <th>1</th>\n",
       "      <td>867</td>\n",
       "      <td>Airport</td>\n",
       "      <td>1.0</td>\n",
       "      <td>Trip Completed</td>\n",
       "      <td>2016-07-11 17:57:00</td>\n",
       "      <td>2016-07-11 18:47:00</td>\n",
       "      <td>2016-07-11</td>\n",
       "      <td>17:57:00</td>\n",
       "      <td>Monday</td>\n",
       "    </tr>\n",
       "    <tr>\n",
       "      <th>2</th>\n",
       "      <td>1807</td>\n",
       "      <td>City</td>\n",
       "      <td>1.0</td>\n",
       "      <td>Trip Completed</td>\n",
       "      <td>2016-07-12 09:17:00</td>\n",
       "      <td>2016-07-12 09:58:00</td>\n",
       "      <td>2016-07-12</td>\n",
       "      <td>09:17:00</td>\n",
       "      <td>Tuesday</td>\n",
       "    </tr>\n",
       "    <tr>\n",
       "      <th>3</th>\n",
       "      <td>2532</td>\n",
       "      <td>Airport</td>\n",
       "      <td>1.0</td>\n",
       "      <td>Trip Completed</td>\n",
       "      <td>2016-07-12 21:08:00</td>\n",
       "      <td>2016-07-12 22:03:00</td>\n",
       "      <td>2016-07-12</td>\n",
       "      <td>21:08:00</td>\n",
       "      <td>Tuesday</td>\n",
       "    </tr>\n",
       "    <tr>\n",
       "      <th>4</th>\n",
       "      <td>3112</td>\n",
       "      <td>City</td>\n",
       "      <td>1.0</td>\n",
       "      <td>Trip Completed</td>\n",
       "      <td>2016-07-13 08:33:16</td>\n",
       "      <td>2016-07-13 09:25:47</td>\n",
       "      <td>2016-07-13</td>\n",
       "      <td>08:33:16</td>\n",
       "      <td>Wednesday</td>\n",
       "    </tr>\n",
       "  </tbody>\n",
       "</table>\n",
       "</div>"
      ],
      "text/plain": [
       "   Request_id Pickup_point  Driver_id          Status   request_Date_Time  \\\n",
       "0         619      Airport        1.0  Trip Completed 2016-07-11 11:51:00   \n",
       "1         867      Airport        1.0  Trip Completed 2016-07-11 17:57:00   \n",
       "2        1807         City        1.0  Trip Completed 2016-07-12 09:17:00   \n",
       "3        2532      Airport        1.0  Trip Completed 2016-07-12 21:08:00   \n",
       "4        3112         City        1.0  Trip Completed 2016-07-13 08:33:16   \n",
       "\n",
       "       drop_Date_Time request_Date request_Time request_DayOfWeek  \n",
       "0 2016-07-11 13:00:00   2016-07-11     11:51:00            Monday  \n",
       "1 2016-07-11 18:47:00   2016-07-11     17:57:00            Monday  \n",
       "2 2016-07-12 09:58:00   2016-07-12     09:17:00           Tuesday  \n",
       "3 2016-07-12 22:03:00   2016-07-12     21:08:00           Tuesday  \n",
       "4 2016-07-13 09:25:47   2016-07-13     08:33:16         Wednesday  "
      ]
     },
     "execution_count": 94,
     "metadata": {},
     "output_type": "execute_result"
    }
   ],
   "source": [
    "#extracting day of week from request date time\n",
    "uber['request_DayOfWeek'] = uber['request_Date_Time'].dt.day_name()\n",
    "uber.head()"
   ]
  },
  {
   "cell_type": "code",
   "execution_count": 95,
   "id": "c811e2da",
   "metadata": {},
   "outputs": [
    {
     "data": {
      "text/html": [
       "<div>\n",
       "<style scoped>\n",
       "    .dataframe tbody tr th:only-of-type {\n",
       "        vertical-align: middle;\n",
       "    }\n",
       "\n",
       "    .dataframe tbody tr th {\n",
       "        vertical-align: top;\n",
       "    }\n",
       "\n",
       "    .dataframe thead th {\n",
       "        text-align: right;\n",
       "    }\n",
       "</style>\n",
       "<table border=\"1\" class=\"dataframe\">\n",
       "  <thead>\n",
       "    <tr style=\"text-align: right;\">\n",
       "      <th></th>\n",
       "      <th>Request_id</th>\n",
       "      <th>Pickup_point</th>\n",
       "      <th>Driver_id</th>\n",
       "      <th>Status</th>\n",
       "      <th>request_Date_Time</th>\n",
       "      <th>drop_Date_Time</th>\n",
       "      <th>request_Date</th>\n",
       "      <th>request_Time</th>\n",
       "      <th>request_DayOfWeek</th>\n",
       "      <th>request_hour</th>\n",
       "    </tr>\n",
       "  </thead>\n",
       "  <tbody>\n",
       "    <tr>\n",
       "      <th>0</th>\n",
       "      <td>619</td>\n",
       "      <td>Airport</td>\n",
       "      <td>1.0</td>\n",
       "      <td>Trip Completed</td>\n",
       "      <td>2016-07-11 11:51:00</td>\n",
       "      <td>2016-07-11 13:00:00</td>\n",
       "      <td>2016-07-11</td>\n",
       "      <td>11:51:00</td>\n",
       "      <td>Monday</td>\n",
       "      <td>11</td>\n",
       "    </tr>\n",
       "    <tr>\n",
       "      <th>1</th>\n",
       "      <td>867</td>\n",
       "      <td>Airport</td>\n",
       "      <td>1.0</td>\n",
       "      <td>Trip Completed</td>\n",
       "      <td>2016-07-11 17:57:00</td>\n",
       "      <td>2016-07-11 18:47:00</td>\n",
       "      <td>2016-07-11</td>\n",
       "      <td>17:57:00</td>\n",
       "      <td>Monday</td>\n",
       "      <td>17</td>\n",
       "    </tr>\n",
       "    <tr>\n",
       "      <th>2</th>\n",
       "      <td>1807</td>\n",
       "      <td>City</td>\n",
       "      <td>1.0</td>\n",
       "      <td>Trip Completed</td>\n",
       "      <td>2016-07-12 09:17:00</td>\n",
       "      <td>2016-07-12 09:58:00</td>\n",
       "      <td>2016-07-12</td>\n",
       "      <td>09:17:00</td>\n",
       "      <td>Tuesday</td>\n",
       "      <td>9</td>\n",
       "    </tr>\n",
       "    <tr>\n",
       "      <th>3</th>\n",
       "      <td>2532</td>\n",
       "      <td>Airport</td>\n",
       "      <td>1.0</td>\n",
       "      <td>Trip Completed</td>\n",
       "      <td>2016-07-12 21:08:00</td>\n",
       "      <td>2016-07-12 22:03:00</td>\n",
       "      <td>2016-07-12</td>\n",
       "      <td>21:08:00</td>\n",
       "      <td>Tuesday</td>\n",
       "      <td>21</td>\n",
       "    </tr>\n",
       "    <tr>\n",
       "      <th>4</th>\n",
       "      <td>3112</td>\n",
       "      <td>City</td>\n",
       "      <td>1.0</td>\n",
       "      <td>Trip Completed</td>\n",
       "      <td>2016-07-13 08:33:16</td>\n",
       "      <td>2016-07-13 09:25:47</td>\n",
       "      <td>2016-07-13</td>\n",
       "      <td>08:33:16</td>\n",
       "      <td>Wednesday</td>\n",
       "      <td>8</td>\n",
       "    </tr>\n",
       "    <tr>\n",
       "      <th>5</th>\n",
       "      <td>3879</td>\n",
       "      <td>Airport</td>\n",
       "      <td>1.0</td>\n",
       "      <td>Trip Completed</td>\n",
       "      <td>2016-07-13 21:57:28</td>\n",
       "      <td>2016-07-13 22:28:59</td>\n",
       "      <td>2016-07-13</td>\n",
       "      <td>21:57:28</td>\n",
       "      <td>Wednesday</td>\n",
       "      <td>21</td>\n",
       "    </tr>\n",
       "    <tr>\n",
       "      <th>6</th>\n",
       "      <td>4270</td>\n",
       "      <td>Airport</td>\n",
       "      <td>1.0</td>\n",
       "      <td>Trip Completed</td>\n",
       "      <td>2016-07-14 06:15:32</td>\n",
       "      <td>2016-07-14 07:13:15</td>\n",
       "      <td>2016-07-14</td>\n",
       "      <td>06:15:32</td>\n",
       "      <td>Thursday</td>\n",
       "      <td>6</td>\n",
       "    </tr>\n",
       "    <tr>\n",
       "      <th>7</th>\n",
       "      <td>5510</td>\n",
       "      <td>Airport</td>\n",
       "      <td>1.0</td>\n",
       "      <td>Trip Completed</td>\n",
       "      <td>2016-07-15 05:11:52</td>\n",
       "      <td>2016-07-15 06:07:52</td>\n",
       "      <td>2016-07-15</td>\n",
       "      <td>05:11:52</td>\n",
       "      <td>Friday</td>\n",
       "      <td>5</td>\n",
       "    </tr>\n",
       "    <tr>\n",
       "      <th>8</th>\n",
       "      <td>6248</td>\n",
       "      <td>City</td>\n",
       "      <td>1.0</td>\n",
       "      <td>Trip Completed</td>\n",
       "      <td>2016-07-15 17:57:27</td>\n",
       "      <td>2016-07-15 18:50:51</td>\n",
       "      <td>2016-07-15</td>\n",
       "      <td>17:57:27</td>\n",
       "      <td>Friday</td>\n",
       "      <td>17</td>\n",
       "    </tr>\n",
       "    <tr>\n",
       "      <th>9</th>\n",
       "      <td>267</td>\n",
       "      <td>City</td>\n",
       "      <td>2.0</td>\n",
       "      <td>Trip Completed</td>\n",
       "      <td>2016-07-11 06:46:00</td>\n",
       "      <td>2016-07-11 07:25:00</td>\n",
       "      <td>2016-07-11</td>\n",
       "      <td>06:46:00</td>\n",
       "      <td>Monday</td>\n",
       "      <td>6</td>\n",
       "    </tr>\n",
       "  </tbody>\n",
       "</table>\n",
       "</div>"
      ],
      "text/plain": [
       "   Request_id Pickup_point  Driver_id          Status   request_Date_Time  \\\n",
       "0         619      Airport        1.0  Trip Completed 2016-07-11 11:51:00   \n",
       "1         867      Airport        1.0  Trip Completed 2016-07-11 17:57:00   \n",
       "2        1807         City        1.0  Trip Completed 2016-07-12 09:17:00   \n",
       "3        2532      Airport        1.0  Trip Completed 2016-07-12 21:08:00   \n",
       "4        3112         City        1.0  Trip Completed 2016-07-13 08:33:16   \n",
       "5        3879      Airport        1.0  Trip Completed 2016-07-13 21:57:28   \n",
       "6        4270      Airport        1.0  Trip Completed 2016-07-14 06:15:32   \n",
       "7        5510      Airport        1.0  Trip Completed 2016-07-15 05:11:52   \n",
       "8        6248         City        1.0  Trip Completed 2016-07-15 17:57:27   \n",
       "9         267         City        2.0  Trip Completed 2016-07-11 06:46:00   \n",
       "\n",
       "       drop_Date_Time request_Date request_Time request_DayOfWeek  \\\n",
       "0 2016-07-11 13:00:00   2016-07-11     11:51:00            Monday   \n",
       "1 2016-07-11 18:47:00   2016-07-11     17:57:00            Monday   \n",
       "2 2016-07-12 09:58:00   2016-07-12     09:17:00           Tuesday   \n",
       "3 2016-07-12 22:03:00   2016-07-12     21:08:00           Tuesday   \n",
       "4 2016-07-13 09:25:47   2016-07-13     08:33:16         Wednesday   \n",
       "5 2016-07-13 22:28:59   2016-07-13     21:57:28         Wednesday   \n",
       "6 2016-07-14 07:13:15   2016-07-14     06:15:32          Thursday   \n",
       "7 2016-07-15 06:07:52   2016-07-15     05:11:52            Friday   \n",
       "8 2016-07-15 18:50:51   2016-07-15     17:57:27            Friday   \n",
       "9 2016-07-11 07:25:00   2016-07-11     06:46:00            Monday   \n",
       "\n",
       "   request_hour  \n",
       "0            11  \n",
       "1            17  \n",
       "2             9  \n",
       "3            21  \n",
       "4             8  \n",
       "5            21  \n",
       "6             6  \n",
       "7             5  \n",
       "8            17  \n",
       "9             6  "
      ]
     },
     "execution_count": 95,
     "metadata": {},
     "output_type": "execute_result"
    }
   ],
   "source": [
    "#extracting hour,min and seconds from Request Date_Time\n",
    "\n",
    "uber['request_hour'] = uber['request_Date_Time'].dt.hour\n",
    "uber.head(10)"
   ]
  },
  {
   "cell_type": "markdown",
   "id": "29b70b66",
   "metadata": {},
   "source": [
    "We can make various time slots like:\n",
    "- 0.00 to 3.00 — Late Night\n",
    "- 4.00 to 6.00 — Early Morning\n",
    "- 7.00 to 12.00 — Morning\n",
    "- 13.00 to 17.00 — Afternoon\n",
    "- 18.00 to 20.00 — Evening\n",
    "- 21.00 to 24.00 — Night"
   ]
  },
  {
   "cell_type": "code",
   "execution_count": 96,
   "id": "1fc90966",
   "metadata": {},
   "outputs": [
    {
     "data": {
      "text/html": [
       "<div>\n",
       "<style scoped>\n",
       "    .dataframe tbody tr th:only-of-type {\n",
       "        vertical-align: middle;\n",
       "    }\n",
       "\n",
       "    .dataframe tbody tr th {\n",
       "        vertical-align: top;\n",
       "    }\n",
       "\n",
       "    .dataframe thead th {\n",
       "        text-align: right;\n",
       "    }\n",
       "</style>\n",
       "<table border=\"1\" class=\"dataframe\">\n",
       "  <thead>\n",
       "    <tr style=\"text-align: right;\">\n",
       "      <th></th>\n",
       "      <th>Request_id</th>\n",
       "      <th>Pickup_point</th>\n",
       "      <th>Driver_id</th>\n",
       "      <th>Status</th>\n",
       "      <th>request_Date_Time</th>\n",
       "      <th>drop_Date_Time</th>\n",
       "      <th>request_Date</th>\n",
       "      <th>request_Time</th>\n",
       "      <th>request_DayOfWeek</th>\n",
       "      <th>request_hour</th>\n",
       "      <th>request_timeslot</th>\n",
       "    </tr>\n",
       "  </thead>\n",
       "  <tbody>\n",
       "    <tr>\n",
       "      <th>0</th>\n",
       "      <td>619</td>\n",
       "      <td>Airport</td>\n",
       "      <td>1.0</td>\n",
       "      <td>Trip Completed</td>\n",
       "      <td>2016-07-11 11:51:00</td>\n",
       "      <td>2016-07-11 13:00:00</td>\n",
       "      <td>2016-07-11</td>\n",
       "      <td>11:51:00</td>\n",
       "      <td>Monday</td>\n",
       "      <td>11</td>\n",
       "      <td>Morning</td>\n",
       "    </tr>\n",
       "    <tr>\n",
       "      <th>1</th>\n",
       "      <td>867</td>\n",
       "      <td>Airport</td>\n",
       "      <td>1.0</td>\n",
       "      <td>Trip Completed</td>\n",
       "      <td>2016-07-11 17:57:00</td>\n",
       "      <td>2016-07-11 18:47:00</td>\n",
       "      <td>2016-07-11</td>\n",
       "      <td>17:57:00</td>\n",
       "      <td>Monday</td>\n",
       "      <td>17</td>\n",
       "      <td>Afternoon</td>\n",
       "    </tr>\n",
       "    <tr>\n",
       "      <th>2</th>\n",
       "      <td>1807</td>\n",
       "      <td>City</td>\n",
       "      <td>1.0</td>\n",
       "      <td>Trip Completed</td>\n",
       "      <td>2016-07-12 09:17:00</td>\n",
       "      <td>2016-07-12 09:58:00</td>\n",
       "      <td>2016-07-12</td>\n",
       "      <td>09:17:00</td>\n",
       "      <td>Tuesday</td>\n",
       "      <td>9</td>\n",
       "      <td>Morning</td>\n",
       "    </tr>\n",
       "    <tr>\n",
       "      <th>3</th>\n",
       "      <td>2532</td>\n",
       "      <td>Airport</td>\n",
       "      <td>1.0</td>\n",
       "      <td>Trip Completed</td>\n",
       "      <td>2016-07-12 21:08:00</td>\n",
       "      <td>2016-07-12 22:03:00</td>\n",
       "      <td>2016-07-12</td>\n",
       "      <td>21:08:00</td>\n",
       "      <td>Tuesday</td>\n",
       "      <td>21</td>\n",
       "      <td>Night</td>\n",
       "    </tr>\n",
       "    <tr>\n",
       "      <th>4</th>\n",
       "      <td>3112</td>\n",
       "      <td>City</td>\n",
       "      <td>1.0</td>\n",
       "      <td>Trip Completed</td>\n",
       "      <td>2016-07-13 08:33:16</td>\n",
       "      <td>2016-07-13 09:25:47</td>\n",
       "      <td>2016-07-13</td>\n",
       "      <td>08:33:16</td>\n",
       "      <td>Wednesday</td>\n",
       "      <td>8</td>\n",
       "      <td>Morning</td>\n",
       "    </tr>\n",
       "  </tbody>\n",
       "</table>\n",
       "</div>"
      ],
      "text/plain": [
       "   Request_id Pickup_point  Driver_id          Status   request_Date_Time  \\\n",
       "0         619      Airport        1.0  Trip Completed 2016-07-11 11:51:00   \n",
       "1         867      Airport        1.0  Trip Completed 2016-07-11 17:57:00   \n",
       "2        1807         City        1.0  Trip Completed 2016-07-12 09:17:00   \n",
       "3        2532      Airport        1.0  Trip Completed 2016-07-12 21:08:00   \n",
       "4        3112         City        1.0  Trip Completed 2016-07-13 08:33:16   \n",
       "\n",
       "       drop_Date_Time request_Date request_Time request_DayOfWeek  \\\n",
       "0 2016-07-11 13:00:00   2016-07-11     11:51:00            Monday   \n",
       "1 2016-07-11 18:47:00   2016-07-11     17:57:00            Monday   \n",
       "2 2016-07-12 09:58:00   2016-07-12     09:17:00           Tuesday   \n",
       "3 2016-07-12 22:03:00   2016-07-12     21:08:00           Tuesday   \n",
       "4 2016-07-13 09:25:47   2016-07-13     08:33:16         Wednesday   \n",
       "\n",
       "   request_hour request_timeslot  \n",
       "0            11          Morning  \n",
       "1            17        Afternoon  \n",
       "2             9          Morning  \n",
       "3            21            Night  \n",
       "4             8          Morning  "
      ]
     },
     "execution_count": 96,
     "metadata": {},
     "output_type": "execute_result"
    }
   ],
   "source": [
    "# creating slot of request hour\n",
    "uber.loc[uber['request_hour'].between(0,3, inclusive=True),'request_timeslot'] = 'Late night'\n",
    "uber.loc[uber['request_hour'].between(4,6, inclusive=True),'request_timeslot'] = 'Early morning'\n",
    "uber.loc[uber['request_hour'].between(7,12, inclusive=True),'request_timeslot'] = 'Morning'\n",
    "uber.loc[uber['request_hour'].between(13,17, inclusive=True),'request_timeslot'] = 'Afternoon'\n",
    "uber.loc[uber['request_hour'].between(18,20, inclusive=True),'request_timeslot'] = 'Evening'\n",
    "uber.loc[uber['request_hour'].between(21,24, inclusive=True),'request_timeslot'] = 'Night'\n",
    "uber.head()"
   ]
  },
  {
   "cell_type": "code",
   "execution_count": 97,
   "id": "7433840f",
   "metadata": {},
   "outputs": [
    {
     "data": {
      "text/plain": [
       "Request_id              0\n",
       "Pickup_point            0\n",
       "Driver_id            2650\n",
       "Status                  0\n",
       "request_Date_Time       0\n",
       "drop_Date_Time       3914\n",
       "request_Date            0\n",
       "request_Time            0\n",
       "request_DayOfWeek       0\n",
       "request_hour            0\n",
       "request_timeslot        0\n",
       "dtype: int64"
      ]
     },
     "execution_count": 97,
     "metadata": {},
     "output_type": "execute_result"
    }
   ],
   "source": [
    "#checking if any new columns created has Na's\n",
    "uber.isna().sum()"
   ]
  },
  {
   "cell_type": "markdown",
   "id": "b7ae0d90",
   "metadata": {},
   "source": [
    "## Data preparation:\n",
    "### ii)Handling drop_Date_Time"
   ]
  },
  {
   "cell_type": "code",
   "execution_count": 98,
   "id": "f4ac61ff",
   "metadata": {},
   "outputs": [
    {
     "data": {
      "text/html": [
       "<div>\n",
       "<style scoped>\n",
       "    .dataframe tbody tr th:only-of-type {\n",
       "        vertical-align: middle;\n",
       "    }\n",
       "\n",
       "    .dataframe tbody tr th {\n",
       "        vertical-align: top;\n",
       "    }\n",
       "\n",
       "    .dataframe thead th {\n",
       "        text-align: right;\n",
       "    }\n",
       "</style>\n",
       "<table border=\"1\" class=\"dataframe\">\n",
       "  <thead>\n",
       "    <tr style=\"text-align: right;\">\n",
       "      <th></th>\n",
       "      <th>Request_id</th>\n",
       "      <th>Pickup_point</th>\n",
       "      <th>Driver_id</th>\n",
       "      <th>Status</th>\n",
       "      <th>request_Date_Time</th>\n",
       "      <th>drop_Date_Time</th>\n",
       "      <th>request_Date</th>\n",
       "      <th>request_Time</th>\n",
       "      <th>request_DayOfWeek</th>\n",
       "      <th>request_hour</th>\n",
       "      <th>request_timeslot</th>\n",
       "      <th>drop_Date</th>\n",
       "      <th>drop_Time</th>\n",
       "    </tr>\n",
       "  </thead>\n",
       "  <tbody>\n",
       "    <tr>\n",
       "      <th>0</th>\n",
       "      <td>619</td>\n",
       "      <td>Airport</td>\n",
       "      <td>1.0</td>\n",
       "      <td>Trip Completed</td>\n",
       "      <td>2016-07-11 11:51:00</td>\n",
       "      <td>2016-07-11 13:00:00</td>\n",
       "      <td>2016-07-11</td>\n",
       "      <td>11:51:00</td>\n",
       "      <td>Monday</td>\n",
       "      <td>11</td>\n",
       "      <td>Morning</td>\n",
       "      <td>2016-07-11</td>\n",
       "      <td>13:00:00</td>\n",
       "    </tr>\n",
       "    <tr>\n",
       "      <th>1</th>\n",
       "      <td>867</td>\n",
       "      <td>Airport</td>\n",
       "      <td>1.0</td>\n",
       "      <td>Trip Completed</td>\n",
       "      <td>2016-07-11 17:57:00</td>\n",
       "      <td>2016-07-11 18:47:00</td>\n",
       "      <td>2016-07-11</td>\n",
       "      <td>17:57:00</td>\n",
       "      <td>Monday</td>\n",
       "      <td>17</td>\n",
       "      <td>Afternoon</td>\n",
       "      <td>2016-07-11</td>\n",
       "      <td>18:47:00</td>\n",
       "    </tr>\n",
       "    <tr>\n",
       "      <th>2</th>\n",
       "      <td>1807</td>\n",
       "      <td>City</td>\n",
       "      <td>1.0</td>\n",
       "      <td>Trip Completed</td>\n",
       "      <td>2016-07-12 09:17:00</td>\n",
       "      <td>2016-07-12 09:58:00</td>\n",
       "      <td>2016-07-12</td>\n",
       "      <td>09:17:00</td>\n",
       "      <td>Tuesday</td>\n",
       "      <td>9</td>\n",
       "      <td>Morning</td>\n",
       "      <td>2016-07-12</td>\n",
       "      <td>09:58:00</td>\n",
       "    </tr>\n",
       "    <tr>\n",
       "      <th>3</th>\n",
       "      <td>2532</td>\n",
       "      <td>Airport</td>\n",
       "      <td>1.0</td>\n",
       "      <td>Trip Completed</td>\n",
       "      <td>2016-07-12 21:08:00</td>\n",
       "      <td>2016-07-12 22:03:00</td>\n",
       "      <td>2016-07-12</td>\n",
       "      <td>21:08:00</td>\n",
       "      <td>Tuesday</td>\n",
       "      <td>21</td>\n",
       "      <td>Night</td>\n",
       "      <td>2016-07-12</td>\n",
       "      <td>22:03:00</td>\n",
       "    </tr>\n",
       "    <tr>\n",
       "      <th>4</th>\n",
       "      <td>3112</td>\n",
       "      <td>City</td>\n",
       "      <td>1.0</td>\n",
       "      <td>Trip Completed</td>\n",
       "      <td>2016-07-13 08:33:16</td>\n",
       "      <td>2016-07-13 09:25:47</td>\n",
       "      <td>2016-07-13</td>\n",
       "      <td>08:33:16</td>\n",
       "      <td>Wednesday</td>\n",
       "      <td>8</td>\n",
       "      <td>Morning</td>\n",
       "      <td>2016-07-13</td>\n",
       "      <td>09:25:47</td>\n",
       "    </tr>\n",
       "    <tr>\n",
       "      <th>5</th>\n",
       "      <td>3879</td>\n",
       "      <td>Airport</td>\n",
       "      <td>1.0</td>\n",
       "      <td>Trip Completed</td>\n",
       "      <td>2016-07-13 21:57:28</td>\n",
       "      <td>2016-07-13 22:28:59</td>\n",
       "      <td>2016-07-13</td>\n",
       "      <td>21:57:28</td>\n",
       "      <td>Wednesday</td>\n",
       "      <td>21</td>\n",
       "      <td>Night</td>\n",
       "      <td>2016-07-13</td>\n",
       "      <td>22:28:59</td>\n",
       "    </tr>\n",
       "    <tr>\n",
       "      <th>6</th>\n",
       "      <td>4270</td>\n",
       "      <td>Airport</td>\n",
       "      <td>1.0</td>\n",
       "      <td>Trip Completed</td>\n",
       "      <td>2016-07-14 06:15:32</td>\n",
       "      <td>2016-07-14 07:13:15</td>\n",
       "      <td>2016-07-14</td>\n",
       "      <td>06:15:32</td>\n",
       "      <td>Thursday</td>\n",
       "      <td>6</td>\n",
       "      <td>Early morning</td>\n",
       "      <td>2016-07-14</td>\n",
       "      <td>07:13:15</td>\n",
       "    </tr>\n",
       "    <tr>\n",
       "      <th>7</th>\n",
       "      <td>5510</td>\n",
       "      <td>Airport</td>\n",
       "      <td>1.0</td>\n",
       "      <td>Trip Completed</td>\n",
       "      <td>2016-07-15 05:11:52</td>\n",
       "      <td>2016-07-15 06:07:52</td>\n",
       "      <td>2016-07-15</td>\n",
       "      <td>05:11:52</td>\n",
       "      <td>Friday</td>\n",
       "      <td>5</td>\n",
       "      <td>Early morning</td>\n",
       "      <td>2016-07-15</td>\n",
       "      <td>06:07:52</td>\n",
       "    </tr>\n",
       "    <tr>\n",
       "      <th>8</th>\n",
       "      <td>6248</td>\n",
       "      <td>City</td>\n",
       "      <td>1.0</td>\n",
       "      <td>Trip Completed</td>\n",
       "      <td>2016-07-15 17:57:27</td>\n",
       "      <td>2016-07-15 18:50:51</td>\n",
       "      <td>2016-07-15</td>\n",
       "      <td>17:57:27</td>\n",
       "      <td>Friday</td>\n",
       "      <td>17</td>\n",
       "      <td>Afternoon</td>\n",
       "      <td>2016-07-15</td>\n",
       "      <td>18:50:51</td>\n",
       "    </tr>\n",
       "    <tr>\n",
       "      <th>9</th>\n",
       "      <td>267</td>\n",
       "      <td>City</td>\n",
       "      <td>2.0</td>\n",
       "      <td>Trip Completed</td>\n",
       "      <td>2016-07-11 06:46:00</td>\n",
       "      <td>2016-07-11 07:25:00</td>\n",
       "      <td>2016-07-11</td>\n",
       "      <td>06:46:00</td>\n",
       "      <td>Monday</td>\n",
       "      <td>6</td>\n",
       "      <td>Early morning</td>\n",
       "      <td>2016-07-11</td>\n",
       "      <td>07:25:00</td>\n",
       "    </tr>\n",
       "  </tbody>\n",
       "</table>\n",
       "</div>"
      ],
      "text/plain": [
       "   Request_id Pickup_point  Driver_id          Status   request_Date_Time  \\\n",
       "0         619      Airport        1.0  Trip Completed 2016-07-11 11:51:00   \n",
       "1         867      Airport        1.0  Trip Completed 2016-07-11 17:57:00   \n",
       "2        1807         City        1.0  Trip Completed 2016-07-12 09:17:00   \n",
       "3        2532      Airport        1.0  Trip Completed 2016-07-12 21:08:00   \n",
       "4        3112         City        1.0  Trip Completed 2016-07-13 08:33:16   \n",
       "5        3879      Airport        1.0  Trip Completed 2016-07-13 21:57:28   \n",
       "6        4270      Airport        1.0  Trip Completed 2016-07-14 06:15:32   \n",
       "7        5510      Airport        1.0  Trip Completed 2016-07-15 05:11:52   \n",
       "8        6248         City        1.0  Trip Completed 2016-07-15 17:57:27   \n",
       "9         267         City        2.0  Trip Completed 2016-07-11 06:46:00   \n",
       "\n",
       "       drop_Date_Time request_Date request_Time request_DayOfWeek  \\\n",
       "0 2016-07-11 13:00:00   2016-07-11     11:51:00            Monday   \n",
       "1 2016-07-11 18:47:00   2016-07-11     17:57:00            Monday   \n",
       "2 2016-07-12 09:58:00   2016-07-12     09:17:00           Tuesday   \n",
       "3 2016-07-12 22:03:00   2016-07-12     21:08:00           Tuesday   \n",
       "4 2016-07-13 09:25:47   2016-07-13     08:33:16         Wednesday   \n",
       "5 2016-07-13 22:28:59   2016-07-13     21:57:28         Wednesday   \n",
       "6 2016-07-14 07:13:15   2016-07-14     06:15:32          Thursday   \n",
       "7 2016-07-15 06:07:52   2016-07-15     05:11:52            Friday   \n",
       "8 2016-07-15 18:50:51   2016-07-15     17:57:27            Friday   \n",
       "9 2016-07-11 07:25:00   2016-07-11     06:46:00            Monday   \n",
       "\n",
       "   request_hour request_timeslot   drop_Date drop_Time  \n",
       "0            11          Morning  2016-07-11  13:00:00  \n",
       "1            17        Afternoon  2016-07-11  18:47:00  \n",
       "2             9          Morning  2016-07-12  09:58:00  \n",
       "3            21            Night  2016-07-12  22:03:00  \n",
       "4             8          Morning  2016-07-13  09:25:47  \n",
       "5            21            Night  2016-07-13  22:28:59  \n",
       "6             6    Early morning  2016-07-14  07:13:15  \n",
       "7             5    Early morning  2016-07-15  06:07:52  \n",
       "8            17        Afternoon  2016-07-15  18:50:51  \n",
       "9             6    Early morning  2016-07-11  07:25:00  "
      ]
     },
     "execution_count": 98,
     "metadata": {},
     "output_type": "execute_result"
    }
   ],
   "source": [
    "#extracting date and time from drop_Date_Time\n",
    "\n",
    "uber['drop_Date'] = uber['drop_Date_Time'].dt.date\n",
    "uber['drop_Time'] = uber['drop_Date_Time'].dt.time\n",
    "\n",
    "uber.head(10)"
   ]
  },
  {
   "cell_type": "markdown",
   "id": "a723ac63",
   "metadata": {},
   "source": [
    "## Data Analysis\n"
   ]
  },
  {
   "cell_type": "code",
   "execution_count": 99,
   "id": "2f2e7224",
   "metadata": {},
   "outputs": [
    {
     "data": {
      "image/png": "[encoded data removed]",
      "text/plain": [
       "<Figure size 432x288 with 1 Axes>"
      ]
     },
     "metadata": {},
     "output_type": "display_data"
    }
   ],
   "source": [
    "#looking for insight in pickup point\n",
    "sns.set(style=\"darkgrid\")\n",
    "ax = sns.countplot(x=\"Pickup_point\", data=uber)\n",
    "for p in ax.patches:\n",
    "    value = p.get_height()\n",
    "    X = p.get_x()+0.4\n",
    "    Y = p.get_height()+50\n",
    "    ax.text(X, Y, value, ha=\"center\")\n",
    "plt.show()\n"
   ]
  },
  {
   "cell_type": "markdown",
   "id": "887e51fa",
   "metadata": {},
   "source": [
    "#### There isn't much difference in airport and city requests. "
   ]
  },
  {
   "cell_type": "code",
   "execution_count": 100,
   "id": "5cfc864d",
   "metadata": {},
   "outputs": [
    {
     "data": {
      "image/png": "[encoded data removed]",
      "text/plain": [
       "<Figure size 720x576 with 1 Axes>"
      ]
     },
     "metadata": {},
     "output_type": "display_data"
    }
   ],
   "source": [
    "#looking for insight in status\n",
    "plt.figure(figsize=(10, 8))\n",
    "ax =sns.countplot(x=\"Status\", data=uber)\n",
    "total = len(uber)\n",
    "for p in ax.patches:\n",
    "    value = round((p.get_height()/total)*100,2)\n",
    "    X = p.get_x()+0.4\n",
    "    Y = p.get_height()+50\n",
    "    ax.text(X, Y, '{:} %'.format(value), ha=\"center\")\n",
    "plt.show()"
   ]
  },
  {
   "cell_type": "code",
   "execution_count": 51,
   "id": "46599bb4",
   "metadata": {},
   "outputs": [
    {
     "data": {
      "image/png": "[encoded data removed]",
      "text/plain": [
       "<Figure size 864x576 with 1 Axes>"
      ]
     },
     "metadata": {},
     "output_type": "display_data"
    }
   ],
   "source": [
    "#looking to find the request count vs daysof week\n",
    "plt.figure(num=None, figsize=(12, 8), facecolor='w', edgecolor='k')\n",
    "ax =sns.countplot(x='request_DayOfWeek', data=uber)\n",
    "for p in ax.patches:\n",
    "    value = p.get_height()\n",
    "    X = p.get_x()+0.4\n",
    "    Y = p.get_height()+20\n",
    "    ax.text(X, Y, value, ha=\"center\")\n",
    "plt.show()\n"
   ]
  },
  {
   "cell_type": "markdown",
   "id": "8f568b79",
   "metadata": {},
   "source": [
    "#### There isn't much difference in requests vs days of the week"
   ]
  },
  {
   "cell_type": "code",
   "execution_count": 52,
   "id": "5bf0b8c4",
   "metadata": {},
   "outputs": [
    {
     "data": {
      "image/png": "[encoded data removed]",
      "text/plain": [
       "<Figure size 864x576 with 1 Axes>"
      ]
     },
     "metadata": {},
     "output_type": "display_data"
    }
   ],
   "source": [
    "#looking for insight in request hour\n",
    "plt.figure(num=None, figsize=(12, 8), facecolor='w', edgecolor='k')\n",
    "sns.countplot(x='request_hour', data=uber)\n",
    "plt.show()\n"
   ]
  },
  {
   "cell_type": "markdown",
   "id": "d09d5b16",
   "metadata": {},
   "source": [
    "#### The below plot clearly depicts that there are high request rates from 5am to 9am and 5pm to 10 pm"
   ]
  },
  {
   "cell_type": "code",
   "execution_count": 53,
   "id": "6c080f15",
   "metadata": {},
   "outputs": [
    {
     "data": {
      "image/png": "[encoded data removed]",
      "text/plain": [
       "<Figure size 1440x1440 with 1 Axes>"
      ]
     },
     "metadata": {},
     "output_type": "display_data"
    }
   ],
   "source": [
    "#to check if high request rates from 5am to 9am and 5pm to 10 pm is consistent throughout all days\n",
    "\n",
    "plt.figure(num=None, figsize=(20, 20), facecolor='w', edgecolor='b')\n",
    "sns.countplot(y='request_Date',hue=\"request_hour\", data=uber)\n",
    "plt.show()\n"
   ]
  },
  {
   "cell_type": "markdown",
   "id": "7c36d62b",
   "metadata": {},
   "source": [
    "#### This shows that all dates have high request rates is around the same time -5am to 9am and 5pm to 10 pm"
   ]
  },
  {
   "cell_type": "markdown",
   "id": "6778ebd2",
   "metadata": {},
   "source": [
    "## Analysis — Time Slots"
   ]
  },
  {
   "cell_type": "code",
   "execution_count": 101,
   "id": "d8a71672",
   "metadata": {},
   "outputs": [
    {
     "data": {
      "image/png": "[encoded data removed]",
      "text/plain": [
       "<Figure size 864x576 with 1 Axes>"
      ]
     },
     "metadata": {},
     "output_type": "display_data"
    }
   ],
   "source": [
    "#looking for insight in request timeslot\n",
    "plt.figure(num=None, figsize=(12, 8), facecolor='w', edgecolor='b')\n",
    "ax =sns.countplot(x='request_timeslot', data=uber)\n",
    "total = len(uber)\n",
    "for p in ax.patches:\n",
    "    value = round((p.get_height()/total)*100,2)\n",
    "    X = p.get_x()+0.4\n",
    "    Y = p.get_height()+25\n",
    "    ax.text(X, Y, '{:} %'.format(value), ha=\"center\")\n",
    "plt.show()"
   ]
  },
  {
   "cell_type": "markdown",
   "id": "1aced0ff",
   "metadata": {},
   "source": [
    "## Observations so far:\n",
    "1. Only 41.97% requests from city and airport request gets completed\n",
    "2. High request rates are from morning and evening slot"
   ]
  },
  {
   "cell_type": "code",
   "execution_count": 102,
   "id": "51fb9510",
   "metadata": {},
   "outputs": [
    {
     "data": {
      "image/png": "[encoded data removed]",
      "text/plain": [
       "<Figure size 864x576 with 1 Axes>"
      ]
     },
     "metadata": {},
     "output_type": "display_data"
    }
   ],
   "source": [
    "# Segmenting the data:\n",
    "\n",
    "#segmenting pickup point over status\n",
    "plt.figure(num=None, figsize=(12, 8), facecolor='w', edgecolor='k')\n",
    "ax =sns.countplot(x='Pickup_point', hue=\"Status\", data=uber)\n",
    "total = len(uber)\n",
    "for p in ax.patches:\n",
    "    value = round((p.get_height()/total)*100,2)\n",
    "    X = p.get_x()+0.2\n",
    "    Y = p.get_height()+20\n",
    "    ax.text(X, Y, '{:} %'.format(value), ha=\"right\")\n",
    "plt.show()\n"
   ]
  },
  {
   "cell_type": "markdown",
   "id": "cb1af008",
   "metadata": {},
   "source": [
    "#### The above plot shows that for most of the  Airport pickup requests there are no cars available \n",
    "#### and most requests that get cancelled are from city pickup requests"
   ]
  },
  {
   "cell_type": "code",
   "execution_count": 56,
   "id": "5849de7d",
   "metadata": {},
   "outputs": [
    {
     "data": {
      "image/png": "[encoded data removed]",
      "text/plain": [
       "<Figure size 864x576 with 1 Axes>"
      ]
     },
     "metadata": {},
     "output_type": "display_data"
    }
   ],
   "source": [
    "#segmenting pickup point over time slot\n",
    "plt.figure(num=None, figsize=(12, 8), facecolor='w', edgecolor='k')\n",
    "sns.countplot(x='Pickup_point', hue=\"request_timeslot\", data=uber)\n",
    "plt.show()\n"
   ]
  },
  {
   "cell_type": "markdown",
   "id": "c5b1be7c",
   "metadata": {},
   "source": [
    "### Airport - has the hightest request in the evening\n",
    "### City - has the hightest request in the morning\n",
    "### From this graph our previous observation of high request rates of morning and evening slot gets clarified."
   ]
  },
  {
   "cell_type": "code",
   "execution_count": 103,
   "id": "2d7515ea",
   "metadata": {},
   "outputs": [
    {
     "data": {
      "image/png": "[encoded data removed]",
      "text/plain": [
       "<Figure size 1014.92x432 with 3 Axes>"
      ]
     },
     "metadata": {},
     "output_type": "display_data"
    }
   ],
   "source": [
    "#segmenting the timeslot vs both Status and pickup point \n",
    "\n",
    "sns.catplot(x='Pickup_point',col=\"Status\", hue = 'request_timeslot',data=uber ,kind=\"count\",\n",
    "            height=6,aspect= 0.7,ci=85,col_wrap=3,margin_titles=True)\n",
    "plt.show()\n"
   ]
  },
  {
   "cell_type": "markdown",
   "id": "cb6bcbc8",
   "metadata": {},
   "source": [
    "#### From the below plot it is evident that:\n",
    "#### Airport requests during the evening slot(during which there is high airport request rate)there are no cars available\n",
    "#### Most city requests get cancelled in the morning slot(during which there is high city request rate) "
   ]
  },
  {
   "cell_type": "markdown",
   "id": "6b4a871c",
   "metadata": {},
   "source": [
    "## Observation so far:\n",
    "The problematic status are cancelled and no cars available as it leads to potential loss of revenue.\n",
    "\n",
    "1. Airport pickup point has most 'No Car available'\n",
    "2. City pickup point has highest 'Cancelled' status\n",
    "3. 'Airport' - has the hightest request in the 'Evening' aligning to our 'No Car available' status\n",
    "4. 'City'- has the hightest request in the 'Morning' aligning to our 'Cancelled' status.\n",
    "\n",
    "# Analysis — Demand, Supply and Gap \n",
    "\n",
    "## Supply and demand gap calculation"
   ]
  },
  {
   "cell_type": "code",
   "execution_count": 105,
   "id": "a87ba0e2",
   "metadata": {},
   "outputs": [],
   "source": [
    "#creating demand column\n",
    "uber.loc[(uber.Status == 'Trip Completed') | (uber.Status == 'Cancelled')| (uber.Status == 'No Cars Available'), 'demand'] = 'Demand' "
   ]
  },
  {
   "cell_type": "code",
   "execution_count": 106,
   "id": "2aa47932",
   "metadata": {},
   "outputs": [],
   "source": [
    "#creating supply column\n",
    "uber.loc[(uber.Status == 'Trip Completed'), 'supply'] = 'Supply'"
   ]
  },
  {
   "cell_type": "code",
   "execution_count": 107,
   "id": "23e1fed6",
   "metadata": {},
   "outputs": [],
   "source": [
    "#creating gap column\n",
    "uber.loc[(uber.Status == 'Cancelled')| (uber.Status == 'No Cars Available'), 'gap'] = 'Gap' "
   ]
  },
  {
   "cell_type": "code",
   "execution_count": 108,
   "id": "caf8de97",
   "metadata": {},
   "outputs": [
    {
     "data": {
      "text/html": [
       "<div>\n",
       "<style scoped>\n",
       "    .dataframe tbody tr th:only-of-type {\n",
       "        vertical-align: middle;\n",
       "    }\n",
       "\n",
       "    .dataframe tbody tr th {\n",
       "        vertical-align: top;\n",
       "    }\n",
       "\n",
       "    .dataframe thead th {\n",
       "        text-align: right;\n",
       "    }\n",
       "</style>\n",
       "<table border=\"1\" class=\"dataframe\">\n",
       "  <thead>\n",
       "    <tr style=\"text-align: right;\">\n",
       "      <th></th>\n",
       "      <th>Request_id</th>\n",
       "      <th>Pickup_point</th>\n",
       "      <th>Driver_id</th>\n",
       "      <th>Status</th>\n",
       "      <th>request_Date_Time</th>\n",
       "      <th>drop_Date_Time</th>\n",
       "      <th>request_Date</th>\n",
       "      <th>request_Time</th>\n",
       "      <th>request_DayOfWeek</th>\n",
       "      <th>request_hour</th>\n",
       "      <th>request_timeslot</th>\n",
       "      <th>drop_Date</th>\n",
       "      <th>drop_Time</th>\n",
       "      <th>demand</th>\n",
       "      <th>supply</th>\n",
       "      <th>gap</th>\n",
       "    </tr>\n",
       "  </thead>\n",
       "  <tbody>\n",
       "    <tr>\n",
       "      <th>0</th>\n",
       "      <td>619</td>\n",
       "      <td>Airport</td>\n",
       "      <td>1.0</td>\n",
       "      <td>Trip Completed</td>\n",
       "      <td>2016-07-11 11:51:00</td>\n",
       "      <td>2016-07-11 13:00:00</td>\n",
       "      <td>2016-07-11</td>\n",
       "      <td>11:51:00</td>\n",
       "      <td>Monday</td>\n",
       "      <td>11</td>\n",
       "      <td>Morning</td>\n",
       "      <td>2016-07-11</td>\n",
       "      <td>13:00:00</td>\n",
       "      <td>Demand</td>\n",
       "      <td>Supply</td>\n",
       "      <td>NaN</td>\n",
       "    </tr>\n",
       "    <tr>\n",
       "      <th>1</th>\n",
       "      <td>867</td>\n",
       "      <td>Airport</td>\n",
       "      <td>1.0</td>\n",
       "      <td>Trip Completed</td>\n",
       "      <td>2016-07-11 17:57:00</td>\n",
       "      <td>2016-07-11 18:47:00</td>\n",
       "      <td>2016-07-11</td>\n",
       "      <td>17:57:00</td>\n",
       "      <td>Monday</td>\n",
       "      <td>17</td>\n",
       "      <td>Afternoon</td>\n",
       "      <td>2016-07-11</td>\n",
       "      <td>18:47:00</td>\n",
       "      <td>Demand</td>\n",
       "      <td>Supply</td>\n",
       "      <td>NaN</td>\n",
       "    </tr>\n",
       "    <tr>\n",
       "      <th>2</th>\n",
       "      <td>1807</td>\n",
       "      <td>City</td>\n",
       "      <td>1.0</td>\n",
       "      <td>Trip Completed</td>\n",
       "      <td>2016-07-12 09:17:00</td>\n",
       "      <td>2016-07-12 09:58:00</td>\n",
       "      <td>2016-07-12</td>\n",
       "      <td>09:17:00</td>\n",
       "      <td>Tuesday</td>\n",
       "      <td>9</td>\n",
       "      <td>Morning</td>\n",
       "      <td>2016-07-12</td>\n",
       "      <td>09:58:00</td>\n",
       "      <td>Demand</td>\n",
       "      <td>Supply</td>\n",
       "      <td>NaN</td>\n",
       "    </tr>\n",
       "    <tr>\n",
       "      <th>3</th>\n",
       "      <td>2532</td>\n",
       "      <td>Airport</td>\n",
       "      <td>1.0</td>\n",
       "      <td>Trip Completed</td>\n",
       "      <td>2016-07-12 21:08:00</td>\n",
       "      <td>2016-07-12 22:03:00</td>\n",
       "      <td>2016-07-12</td>\n",
       "      <td>21:08:00</td>\n",
       "      <td>Tuesday</td>\n",
       "      <td>21</td>\n",
       "      <td>Night</td>\n",
       "      <td>2016-07-12</td>\n",
       "      <td>22:03:00</td>\n",
       "      <td>Demand</td>\n",
       "      <td>Supply</td>\n",
       "      <td>NaN</td>\n",
       "    </tr>\n",
       "    <tr>\n",
       "      <th>4</th>\n",
       "      <td>3112</td>\n",
       "      <td>City</td>\n",
       "      <td>1.0</td>\n",
       "      <td>Trip Completed</td>\n",
       "      <td>2016-07-13 08:33:16</td>\n",
       "      <td>2016-07-13 09:25:47</td>\n",
       "      <td>2016-07-13</td>\n",
       "      <td>08:33:16</td>\n",
       "      <td>Wednesday</td>\n",
       "      <td>8</td>\n",
       "      <td>Morning</td>\n",
       "      <td>2016-07-13</td>\n",
       "      <td>09:25:47</td>\n",
       "      <td>Demand</td>\n",
       "      <td>Supply</td>\n",
       "      <td>NaN</td>\n",
       "    </tr>\n",
       "  </tbody>\n",
       "</table>\n",
       "</div>"
      ],
      "text/plain": [
       "   Request_id Pickup_point  Driver_id          Status   request_Date_Time  \\\n",
       "0         619      Airport        1.0  Trip Completed 2016-07-11 11:51:00   \n",
       "1         867      Airport        1.0  Trip Completed 2016-07-11 17:57:00   \n",
       "2        1807         City        1.0  Trip Completed 2016-07-12 09:17:00   \n",
       "3        2532      Airport        1.0  Trip Completed 2016-07-12 21:08:00   \n",
       "4        3112         City        1.0  Trip Completed 2016-07-13 08:33:16   \n",
       "\n",
       "       drop_Date_Time request_Date request_Time request_DayOfWeek  \\\n",
       "0 2016-07-11 13:00:00   2016-07-11     11:51:00            Monday   \n",
       "1 2016-07-11 18:47:00   2016-07-11     17:57:00            Monday   \n",
       "2 2016-07-12 09:58:00   2016-07-12     09:17:00           Tuesday   \n",
       "3 2016-07-12 22:03:00   2016-07-12     21:08:00           Tuesday   \n",
       "4 2016-07-13 09:25:47   2016-07-13     08:33:16         Wednesday   \n",
       "\n",
       "   request_hour request_timeslot   drop_Date drop_Time  demand  supply  gap  \n",
       "0            11          Morning  2016-07-11  13:00:00  Demand  Supply  NaN  \n",
       "1            17        Afternoon  2016-07-11  18:47:00  Demand  Supply  NaN  \n",
       "2             9          Morning  2016-07-12  09:58:00  Demand  Supply  NaN  \n",
       "3            21            Night  2016-07-12  22:03:00  Demand  Supply  NaN  \n",
       "4             8          Morning  2016-07-13  09:25:47  Demand  Supply  NaN  "
      ]
     },
     "execution_count": 108,
     "metadata": {},
     "output_type": "execute_result"
    }
   ],
   "source": [
    "uber.head()"
   ]
  },
  {
   "cell_type": "code",
   "execution_count": 109,
   "id": "917dd6c9",
   "metadata": {},
   "outputs": [
    {
     "data": {
      "text/plain": [
       "6745"
      ]
     },
     "execution_count": 109,
     "metadata": {},
     "output_type": "execute_result"
    }
   ],
   "source": [
    "#calculating demand count\n",
    "uber['demand'].count()"
   ]
  },
  {
   "cell_type": "code",
   "execution_count": 110,
   "id": "9d1e24d5",
   "metadata": {},
   "outputs": [
    {
     "data": {
      "text/plain": [
       "2831"
      ]
     },
     "execution_count": 110,
     "metadata": {},
     "output_type": "execute_result"
    }
   ],
   "source": [
    "#calculating supply count\n",
    "uber['supply'].count()"
   ]
  },
  {
   "cell_type": "code",
   "execution_count": 111,
   "id": "b119215f",
   "metadata": {},
   "outputs": [
    {
     "data": {
      "text/plain": [
       "3914"
      ]
     },
     "execution_count": 111,
     "metadata": {},
     "output_type": "execute_result"
    }
   ],
   "source": [
    "#calculating gap count\n",
    "uber['gap'].count()"
   ]
  },
  {
   "cell_type": "code",
   "execution_count": 112,
   "id": "af9b2573",
   "metadata": {},
   "outputs": [
    {
     "data": {
      "text/html": [
       "<div>\n",
       "<style scoped>\n",
       "    .dataframe tbody tr th:only-of-type {\n",
       "        vertical-align: middle;\n",
       "    }\n",
       "\n",
       "    .dataframe tbody tr th {\n",
       "        vertical-align: top;\n",
       "    }\n",
       "\n",
       "    .dataframe thead th {\n",
       "        text-align: right;\n",
       "    }\n",
       "</style>\n",
       "<table border=\"1\" class=\"dataframe\">\n",
       "  <thead>\n",
       "    <tr style=\"text-align: right;\">\n",
       "      <th></th>\n",
       "      <th>demand</th>\n",
       "      <th>supply</th>\n",
       "      <th>gap</th>\n",
       "    </tr>\n",
       "  </thead>\n",
       "  <tbody>\n",
       "    <tr>\n",
       "      <th>0</th>\n",
       "      <td>Demand</td>\n",
       "      <td>Supply</td>\n",
       "      <td>NaN</td>\n",
       "    </tr>\n",
       "    <tr>\n",
       "      <th>1</th>\n",
       "      <td>Demand</td>\n",
       "      <td>Supply</td>\n",
       "      <td>NaN</td>\n",
       "    </tr>\n",
       "    <tr>\n",
       "      <th>2</th>\n",
       "      <td>Demand</td>\n",
       "      <td>Supply</td>\n",
       "      <td>NaN</td>\n",
       "    </tr>\n",
       "    <tr>\n",
       "      <th>3</th>\n",
       "      <td>Demand</td>\n",
       "      <td>Supply</td>\n",
       "      <td>NaN</td>\n",
       "    </tr>\n",
       "    <tr>\n",
       "      <th>4</th>\n",
       "      <td>Demand</td>\n",
       "      <td>Supply</td>\n",
       "      <td>NaN</td>\n",
       "    </tr>\n",
       "  </tbody>\n",
       "</table>\n",
       "</div>"
      ],
      "text/plain": [
       "   demand  supply  gap\n",
       "0  Demand  Supply  NaN\n",
       "1  Demand  Supply  NaN\n",
       "2  Demand  Supply  NaN\n",
       "3  Demand  Supply  NaN\n",
       "4  Demand  Supply  NaN"
      ]
     },
     "execution_count": 112,
     "metadata": {},
     "output_type": "execute_result"
    }
   ],
   "source": [
    "uber_SupplyandDemand = pd.DataFrame([uber.demand,uber.supply,uber.gap]).transpose()\n",
    "uber_SupplyandDemand.head()"
   ]
  },
  {
   "cell_type": "code",
   "execution_count": 113,
   "id": "707c4dd1",
   "metadata": {},
   "outputs": [
    {
     "data": {
      "image/png": "[encoded data removed]",
      "text/plain": [
       "<Figure size 576x576 with 1 Axes>"
      ]
     },
     "metadata": {},
     "output_type": "display_data"
    }
   ],
   "source": [
    "# plotting demand, supply and gap count\n",
    "plt.figure(num=None, figsize=(8, 8), facecolor='w', edgecolor='k')\n",
    "sns.countplot(x=\"variable\",hue=\"value\", data=pd.melt(uber_SupplyandDemand))\n",
    "plt.show()\n"
   ]
  },
  {
   "cell_type": "markdown",
   "id": "9ec92148",
   "metadata": {},
   "source": [
    "#### This clearly shows that gap exist and there is huge possible to bridge the gap and increase the revenue.\n",
    "#### Gap = Demand - Supply\n",
    "#### Around 58.02% of 'gap' exist."
   ]
  },
  {
   "cell_type": "code",
   "execution_count": 114,
   "id": "6ef3acd1",
   "metadata": {},
   "outputs": [
    {
     "data": {
      "image/png": "[encoded data removed]",
      "text/plain": [
       "<Figure size 864x576 with 1 Axes>"
      ]
     },
     "metadata": {},
     "output_type": "display_data"
    }
   ],
   "source": [
    "#segmenting demand across the request time slot\n",
    "plt.figure(num=None, figsize=(12, 8), facecolor='w', edgecolor='k')\n",
    "sns.countplot(hue='demand',x=\"request_timeslot\", data=uber)\n",
    "plt.show()\n"
   ]
  },
  {
   "cell_type": "markdown",
   "id": "69604361",
   "metadata": {},
   "source": [
    "### Above graph shows that morning and evening has the hightest demand for cabs"
   ]
  },
  {
   "cell_type": "code",
   "execution_count": 69,
   "id": "da90277e",
   "metadata": {},
   "outputs": [
    {
     "data": {
      "image/png": "[encoded data removed]",
      "text/plain": [
       "<Figure size 864x576 with 1 Axes>"
      ]
     },
     "metadata": {},
     "output_type": "display_data"
    }
   ],
   "source": [
    "#segmenting gap across the request time slot\n",
    "plt.figure(num=None, figsize=(12, 8), facecolor='w', edgecolor='k')\n",
    "ax =sns.countplot(x='gap',hue=\"request_timeslot\", data=uber)\n",
    "total = len(uber['gap'])\n",
    "for p in ax.patches:\n",
    "    value = round((p.get_height()/total)*100,2)\n",
    "    X = p.get_x()+0.1\n",
    "    Y = p.get_height()+10\n",
    "    ax.text(X, Y, '{:} %'.format(value), ha=\"right\")\n",
    "plt.show()\n"
   ]
  },
  {
   "cell_type": "markdown",
   "id": "d112f366",
   "metadata": {},
   "source": [
    "### This shows that gap is mainly in the morning and evening time slot, which again is in sync with all our above findings."
   ]
  },
  {
   "cell_type": "markdown",
   "id": "4d3d4997",
   "metadata": {},
   "source": [
    "#### In the above graph - the percentage is taken only across the total gap percentage which is 58.02%\n",
    "1. From the total gap percentage(58.02%) -around 15% gap exist during morning and evenings."
   ]
  },
  {
   "cell_type": "code",
   "execution_count": 70,
   "id": "8da5e232",
   "metadata": {},
   "outputs": [
    {
     "data": {
      "image/png": "[encoded data removed]",
      "text/plain": [
       "<Figure size 580.7x504 with 1 Axes>"
      ]
     },
     "metadata": {},
     "output_type": "display_data"
    }
   ],
   "source": [
    "#segmenting gap across the status and request timeslot\n",
    "sns.catplot(x='request_timeslot',col=\"gap\", hue = 'Status',data=uber ,kind=\"count\", height=7,aspect= 0.9,ci=85)\n",
    "plt.show()\n"
   ]
  },
  {
   "cell_type": "markdown",
   "id": "1dd97a56",
   "metadata": {},
   "source": [
    "#### As gap is sum of (cancelled + No cars available) : We can see that there is no plot in trip completed(Obvious).\n",
    "#### Hightest 'cancelled' gap comes from morning slot.\n",
    "#### Hightest 'No car available' gap comes from evening slot."
   ]
  },
  {
   "cell_type": "code",
   "execution_count": 71,
   "id": "fd540d7b",
   "metadata": {},
   "outputs": [
    {
     "data": {
      "image/png": "[encoded data removed]",
      "text/plain": [
       "<Figure size 1157.17x360 with 6 Axes>"
      ]
     },
     "metadata": {},
     "output_type": "display_data"
    }
   ],
   "source": [
    "#segmenting gap across the pickup point and request timeslot\n",
    "sns.catplot(x='gap',col=\"request_timeslot\", hue = 'Pickup_point',data=uber ,kind=\"count\", height=5,aspect= 0.5,\n",
    "            ci=85)\n",
    "plt.show()\n"
   ]
  },
  {
   "cell_type": "markdown",
   "id": "388bde2a",
   "metadata": {},
   "source": [
    "#### The graph belows shows that:\n",
    "#### 1.In the morning, City pickup has the highest gap.\n",
    "#### 2. in the evening, Airport pickup has the highest gap."
   ]
  },
  {
   "cell_type": "code",
   "execution_count": 73,
   "id": "c23832dd",
   "metadata": {},
   "outputs": [
    {
     "data": {
      "image/png": "[encoded data removed]",
      "text/plain": [
       "<Figure size 420.475x1440 with 2 Axes>"
      ]
     },
     "metadata": {},
     "output_type": "display_data"
    }
   ],
   "source": [
    "#segmenting the gap across the request hour and pickup point\n",
    "#plt.figure(num=None, figsize=(13, 5), facecolor='w', edgecolor='k')\n",
    "sns.catplot(x='request_hour',col=\"Pickup_point\", hue = 'gap',data=uber ,kind=\"count\", height=10,aspect= 0.5,\n",
    "            ci=85,col_wrap=1,palette=sns.color_palette(['green']))\n",
    "plt.show()\n"
   ]
  },
  {
   "cell_type": "markdown",
   "id": "2f773e7c",
   "metadata": {},
   "source": [
    "#### The graph shows that:\n",
    "#### 1. Airport has hightest gap at 5PM - 10PM hours which is evening hours\n",
    "#### 2. City has hightest gap at 5AM - 9AM hours which is morning hours\n",
    "#### And vice versa is not true"
   ]
  },
  {
   "cell_type": "markdown",
   "id": "006497eb",
   "metadata": {},
   "source": [
    "## Observation so far:\n",
    "The problematic status are 'cancelled' and 'no cars available' as it leads to potential loss of revenue. We observed the hightest value of:\n",
    "\n",
    "    Status: \"No car available\"\n",
    "    Where is it happening: Airport - i.e airport to city\n",
    "    When is it happening: Evening \n",
    "\n",
    "    Status: \"Cancelled\"\n",
    "    Where is it happening: City - i.e city to airport\n",
    "    When is it happening: Morning\n",
    "\n",
    "The above points are in sync with highest request rates coming from morning and evening slot.\n",
    "\n",
    "To make our analayse our observation so far, we further looked into the 'gap'. This again is in sync with above observations. The 'gap' which exists are the hightest:\n",
    "\n",
    "    Status: \"No car available\"\n",
    "    Where is it happening: Airport - i.e airport to city\n",
    "    When is it happening: Evening \n",
    "\n",
    "    Status: \"Cancelled\"\n",
    "    Where is it happening: City - i.e city to airport\n",
    "    When is it happening: Morning. \n",
    "\n",
    "And vice versa is not true:\n",
    "\n",
    "   1. Morning hours :There is no high demand for cabs from airport to city \n",
    "   2. Evening hours: There is no high demand for cabs from city to airport\n",
    "\n",
    "This tells us that there are more outbound flights in the morning and inbound flights in the evening.\n",
    "\n",
    "## The reason for the issue:\n",
    "In the morning hours: Though there is high demand for cabs from city to airport, the vice versa is not true.\n",
    "                      Hence the driver tends to 'cancel' the request as getting a return trip from airport \n",
    "                      to city would be tough.\n",
    "\n",
    "In the evening hours: Though there is high demand for cabs from airport to city, the vice versa is not true.\n",
    "                      Hence 'no cars available' in the airport is the hightest in the evening.\n",
    "## Possible suggestions to fill the supply demand gap:\n",
    "    1. Provide incentives for airport trips during peak time.\n",
    "    2. Assigning few extra cabs specially to the airport trips.\n",
    "    3. Fixing a base price for drivers idle time in the airport or to come back to the city without any passenger.\n",
    "    4. Impose penalty for cancellation of requests by the drivers. Set a threshold for the maximum cancellation per day.\n",
    "    5. Promote continuous trip to airport with incentives.\n",
    "    6. Promote advance booking to airports and at the same time keeping drivers updated will the flight schedule with help \n",
    "    them plan their work and they can accept the request as per their work plan."
   ]
  }
 ],
 "metadata": {
  "kernelspec": {
   "display_name": "Python 3 (ipykernel)",
   "language": "python",
   "name": "python3"
  },
  "language_info": {
   "codemirror_mode": {
    "name": "ipython",
    "version": 3
   },
   "file_extension": ".py",
   "mimetype": "text/x-python",
   "name": "python",
   "nbconvert_exporter": "python",
   "pygments_lexer": "ipython3",
   "version": "3.8.8"
  }
 },
 "nbformat": 4,
 "nbformat_minor": 5
}
